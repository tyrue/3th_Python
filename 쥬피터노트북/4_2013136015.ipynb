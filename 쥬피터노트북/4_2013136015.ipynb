{
 "cells": [
  {
   "cell_type": "markdown",
   "metadata": {},
   "source": [
    "# 문제 1번 \n",
    "\n",
    "(양수와 음수 개수 세기 및 평균 계산하기) 불특정 개수의 정수를 읽\n",
    "은 후, 양수와 음수가 몇 개씩 읽혔는지 결정하고, 입력값의 개수와 평균을 계산\n",
    "하는 프로그램을 작성하시오(0은 세지 않는다). 프로그램은 입력값 0으로 종료된\n",
    "다. 평균값을 부동소수점 숫자로 출력한다."
   ]
  },
  {
   "cell_type": "markdown",
   "metadata": {},
   "source": [
    "## 1. 코드설명\n",
    "\n",
    "처음에 사용자는 정수를 입력받는다. 그리고 양수의 개수 pos, 음수의 개수 neg, 입력값의 총 합 sum을 0으로 초기화한다.\n",
    "\n",
    "while 루프에서 만약 num이 양수면 pos의 값을 1증가 시키고 음수라면 neg의 값을 1증가 시킨다.\n",
    "\n",
    "검사가 끝나면 기존의 sum에 입력된 정수 num값을 더하고 사용자는 num에 정수를 다시 입력한다.\n",
    "\n",
    "이를 num에 0을 입력할 때 까지 반복한다.\n",
    "\n",
    "반복문이 끝나면 pos, neg, sum의 값을 출력하고 마지막으로 평균값을 출력하는데 sum/(pos+neg)으로 표현한다."
   ]
  },
  {
   "cell_type": "markdown",
   "metadata": {},
   "source": [
    "## 2. 코드"
   ]
  },
  {
   "cell_type": "code",
   "execution_count": 25,
   "metadata": {},
   "outputs": [
    {
     "name": "stdout",
     "output_type": "stream",
     "text": [
      "정수를 입력하세요. 입력값이 0이면 종료됩니다:5\n",
      "정수를 입력하세요. 입력값이 0이면 종료됩니다:4\n",
      "정수를 입력하세요. 입력값이 0이면 종료됩니다:-8\n",
      "정수를 입력하세요. 입력값이 0이면 종료됩니다:4\n",
      "정수를 입력하세요. 입력값이 0이면 종료됩니다:0\n",
      "양수의 개수는  3 개 입니다.\n",
      "음수의 개수는  1 개 입니다.\n",
      "총합은  5 입니다.\n",
      "평균은  1.25  입니다.\n"
     ]
    }
   ],
   "source": [
    "num = eval(input(\"정수를 입력하세요. 입력값이 0이면 종료됩니다:\")) # 먼저 정수를 입력받는다.\n",
    "pos = 0     # 양수의 개수\n",
    "neg = 0     # 음수의 개수\n",
    "sum = 0     # 입력 값의 총 합\n",
    "while num != 0: # 0을 입력받을 때 까지 반복\n",
    "    if num > 0: # 양수면 pos의 값을 증가\n",
    "        pos += 1\n",
    "    elif num < 0: # 음수면 neg의 값을 증가\n",
    "        neg += 1\n",
    "    sum += num # 기존의 sum에 num을 더한다.\n",
    "    num = eval(input(\"정수를 입력하세요. 입력값이 0이면 종료됩니다:\")) # 다시 정수를 입력받는다.\n",
    "    \n",
    "print(\"양수의 개수는 \", pos, \"개 입니다.\")\n",
    "print(\"음수의 개수는 \", neg, \"개 입니다.\")\n",
    "print(\"총합은 \", sum, \"입니다.\")\n",
    "print(\"평균은 \",sum/(pos+neg), \" 입니다.\")"
   ]
  },
  {
   "cell_type": "markdown",
   "metadata": {},
   "source": [
    "# 문제 2번 \n",
    "\n",
    "최대공약수 계산하기) 예제 코드 lec05/GreatestCommonDivisor.py에서 최대공약수를 구하는 방법을 알아보았다. \n",
    "\n",
    "두 정수 n1과 n2의 최대공약수를 찾는 또 다른 해결방법은 다음과 같다. \n",
    "\n",
    "우선, n1과 n2 중 작은 수를 d라고 한 후, d,d‐1, d‐2, …, 2, 1의 순서로 각각 d가 n1과 n2의 공약수인지 검사한다. \n",
    "\n",
    "첫 번째로 나타난 공약수가 두 수 n1과 n2의 최대공약수이다. \n",
    "\n",
    "이 방법으로 최대공약수를 구하는 프로그램을 작성하시오."
   ]
  },
  {
   "cell_type": "markdown",
   "metadata": {},
   "source": [
    "## 1. 코드설명\n",
    "두 정수 n1, n2을 입력받는다. 그리고 두 정수중 작은 수를 d에 저장한다.\n",
    "\n",
    "for 루프를 사용해서 i가 d부터 1이 될 때 까지 n1, n2의 최대공약수를 찾는다.\n",
    "\n",
    "만약 n1, n2 둘 다 i로 나눠진다면 최대공약수 gcd에 i값을 저장하고 반복문을 탈출한다.\n",
    "\n",
    "마지막으로 n1, n2, gcd를 출력한다."
   ]
  },
  {
   "cell_type": "markdown",
   "metadata": {},
   "source": [
    "## 2. 코드"
   ]
  },
  {
   "cell_type": "code",
   "execution_count": 23,
   "metadata": {},
   "outputs": [
    {
     "name": "stdout",
     "output_type": "stream",
     "text": [
      "정수를 입력하세요:10\n",
      "정수를 입력하세요:8\n",
      "10 과  8 의 최대공약수는  2 입니다.\n"
     ]
    }
   ],
   "source": [
    "n1 = eval(input(\"정수를 입력하세요:\")) # 정수 1\n",
    "n2 = eval(input(\"정수를 입력하세요:\")) # 정수 2\n",
    "\n",
    "# 두 정수중 작은 수를 d에 저장한다.\n",
    "if n1 < n2:\n",
    "    d = n1\n",
    "else:\n",
    "    d = n2 \n",
    "\n",
    "for i in range(d,0,-1):  # 반복문은 d부터 1까지 반복한다.\n",
    "    if n1 % i == 0 and n2 % i == 0: # n1, n2 둘 다 i로 나눠진다면 최대공약수는 i가 된다.\n",
    "        gcd = i\n",
    "        break # 반복문 탈출\n",
    "print(n1, \"과 \", n2, \"의 최대공약수는 \", gcd, \"입니다.\")"
   ]
  },
  {
   "cell_type": "markdown",
   "metadata": {},
   "source": [
    "\n",
    "# 문제 3번 \n",
    "\n",
    "(윤년 출력하기) 21세기(2001년부터 2100년까지)의 모든 윤년을 한 행에 10개씩 출력하는 프로그램을 작성하시오. \n",
    "\n",
    "연도는 단 공백 한 개로 구분된다."
   ]
  },
  {
   "cell_type": "markdown",
   "metadata": {},
   "source": [
    "## 1. 코드설명\n",
    "한 행에 출력된 윤년의 개수 num을 먼저 0으로 초기화한다.\n",
    "\n",
    "for 루프를 이용하여 i가 2001부터 2100이 될 때 까지 반복한다. i는 21세기의 연도이다.\n",
    "\n",
    "만약 i가 윤년이라면(4로 나눠지면서 100으로 나눠지지 않거나 400으로 나눠지는 연도)\n",
    "\n",
    "행에 i를 출력하는데 end = \" \"로 하여 줄바꿈을 하지 않고 공백 하나를 띄운다.\n",
    "\n",
    "그리고 num을 1증가 시킨다.\n",
    "\n",
    "만약 num이 10개, 즉, 한 행에 윤년이 10개가 출력됐다면, num을 0으로 초기화 시키고, 줄바꿈을 한다."
   ]
  },
  {
   "cell_type": "markdown",
   "metadata": {},
   "source": [
    "## 2. 코드"
   ]
  },
  {
   "cell_type": "code",
   "execution_count": 24,
   "metadata": {},
   "outputs": [
    {
     "name": "stdout",
     "output_type": "stream",
     "text": [
      "21세기의 윤년\n",
      "2004 2008 2012 2016 2020 2024 2028 2032 2036 2040 \n",
      "2044 2048 2052 2056 2060 2064 2068 2072 2076 2080 \n",
      "2084 2088 2092 2096 "
     ]
    }
   ],
   "source": [
    "num = 0 # 한 행에 출력된 윤년의 개수\n",
    "print(\"21세기의 윤년\")\n",
    "\n",
    "for i in range(2001, 2101):   # i는 21세기의 연도, 2001부터 2100까지 반복문이 실행됨\n",
    "    if (i % 4 == 0 and i % 100 != 0) or (i % 400 == 0): # 윤년이라면\n",
    "        print(i, end = \" \") # 윤년을 한 행에 공백하나를 띄워서 출력한다.\n",
    "        num += 1\n",
    "        if num % 10 == 0: # 출력된 윤년의 개수가 10개면 num을 0으로 초기화하고 줄바꿈한다.\n",
    "            num = 0\n",
    "            print()"
   ]
  },
  {
   "cell_type": "markdown",
   "metadata": {},
   "source": [
    "# 문제 4번 \n",
    "\n",
    "(가장 큰 수의 출현 빈도수) 정수를 읽은 후, 가장 큰 수를 찾고 그수의 출현 빈도 수를 계산하는 프로그램을 작성하시오. \n",
    "\n",
    "입력은 숫자 0일 때 종료된다고 가정한다. 3 5 2 5 5 5 0이 입력되었다고 가정하면 프로그램은 가장 큰\n",
    "\n",
    "\n",
    "수 5와 5가 출현한 빈도수 4를 찾는다(힌트: 두 변수 max와 count를 사용한다.\n",
    "\n",
    "변수 max는 현재의 최대 숫자를 저장하고 count는 그 수의 출현 빈도수를 센다.\n",
    "\n",
    "초기에 첫 번째 숫자를 max에 1을 count에 할당한다. 각각의 뒤따르는 숫자를max와 비교하라.\n",
    "\n",
    "만약 그 숫자가 max보다 크면, 그 숫자를 max에 할당하고count를 1로 재설정한다. \n",
    "\n",
    "만약 숫자가 max와 같으면, count의 값을 1로 증가시킨다)."
   ]
  },
  {
   "cell_type": "markdown",
   "metadata": {},
   "source": [
    "## 1. 코드설명\n",
    "\n",
    "max는 지금까지 입력된 가장 큰수, count는 가장 큰 수의 출현 빈도 수이다. 처음엔 0으로 초기화한다.\n",
    "\n",
    "사용자로부터 입력된 num을 while 루프에서 검사한다.\n",
    "\n",
    "만약 num이 max보다 크다면, 즉, 더 큰 수를 입력했다면 max를 num으로 초기화하고 count를 1로 재설정한다.\n",
    "\n",
    "num이 max라면, 즉, 가장 큰수를 다시 입력했다면 count를 1증가 시킨다.\n",
    "\n",
    "이를 num이 0을 입력받을 때 까지 반복한다.\n",
    "\n",
    "반복문을 탈출하면 max, count를 출력한다."
   ]
  },
  {
   "cell_type": "markdown",
   "metadata": {},
   "source": [
    "## 2. 코드"
   ]
  },
  {
   "cell_type": "code",
   "execution_count": 14,
   "metadata": {},
   "outputs": [
    {
     "name": "stdout",
     "output_type": "stream",
     "text": [
      "숫자를 입력하세요(0은 입력 종료):3\n",
      "숫자를 입력하세요(0은 입력 종료):5\n",
      "숫자를 입력하세요(0은 입력 종료):2\n",
      "숫자를 입력하세요(0은 입력 종료):5\n",
      "숫자를 입력하세요(0은 입력 종료):5\n",
      "숫자를 입력하세요(0은 입력 종료):5\n",
      "숫자를 입력하세요(0은 입력 종료):0\n",
      "가장 큰 수는  5 입니다.\n",
      "가장 큰 수가 나타난 빈도수는 4 번입니다.\n"
     ]
    }
   ],
   "source": [
    "max = 0   # 입력된 가장 큰 수\n",
    "count = 0 # 가장 큰 수의 출현 빈도 수\n",
    "num = eval(input(\"숫자를 입력하세요(0은 입력 종료):\"))\n",
    "\n",
    "while num != 0: # 0을 입력받을 때 까지 반복\n",
    "    if max < num: # 더 큰 수가 입력되었을 때 max와 count를 재설정한다.\n",
    "        max = num \n",
    "        count = 1 \n",
    "    elif max == num: # 가장 큰 수가 다시 입력될 때 count를 1증가\n",
    "        count += 1\n",
    "    num = eval(input(\"숫자를 입력하세요(0은 입력 종료):\")) # 다시 num을 입력받는다.\n",
    "    \n",
    "print (\"가장 큰 수는 \", max, \"입니다.\")\n",
    "print (\"가장 큰 수가 나타난 빈도수는\", count, \"번입니다.\")"
   ]
  },
  {
   "cell_type": "markdown",
   "metadata": {},
   "source": [
    "# 문제 5번 \n",
    "\n",
    "(정수 자릿수 합산하기) 정수의 자릿수 합을 계산하는 함수를 작성하\n",
    "시오. 다음의 함수 헤더를 사용하라.\n",
    "def sumDigits(n):\n",
    "예를 들어, sumDigits(234)는 9 (9=2+3+4이다.) 를 반환한다 (힌트: 자릿수 추출\n",
    "을 위해 % 연산자를 사용하며, 추출된 자릿수의 삭제를 위해 // 연산자를 사용하\n",
    "라. 예를 들어, 234에서 4를 추출하기 위해 234%10(=4)을 사용한다. 234에서 4를\n",
    "삭제하기 위해 234//10(=23)을 사용한다. 모든 자릿수가 추출될 때까지 각 자리\n",
    "마다 자릿수를 반복적으로 추출하고 삭제하기 위해 ‘루프’를 사용하라.)\n",
    "사용자로부터 하나의 정수를 입력 받고 이 정수의 모든 자릿수의 합을 출력하는\n",
    "프로그램을 작성하시오."
   ]
  },
  {
   "cell_type": "markdown",
   "metadata": {},
   "source": [
    "## 1. 코드설명\n",
    "함수 sumDigits를 정의한다. sumDigits는 정수 n을 인자로 받는다.\n",
    "\n",
    "함수는 먼저 자리수의 합 sum을 0으로 초기화한다.\n",
    "\n",
    "while루프에서 n이 0이 될 때까지 실행을 반복한다.\n",
    "\n",
    "sum에 n의 일의 자리수를 더하는데 n의 일의 자리수는 n % 10으로 구할 수 있다.\n",
    "\n",
    "그리고 n의 일의 자리수를 삭제하는데, n // 10으로 삭제 할 수 있다. 이를 반복하면 n은 0이 된다.\n",
    "\n",
    "반복문을 탈출하면 함수는 sum을 반환한다.\n",
    "\n",
    "함수를 테스트하기 위해 사용자는 먼저 정수 num을 입력받고, sum에 sumDigits(num)을 저장한다.\n",
    "\n",
    "마지막으로 num과 sum을 출력한다."
   ]
  },
  {
   "cell_type": "markdown",
   "metadata": {},
   "source": [
    "## 2. 코드"
   ]
  },
  {
   "cell_type": "code",
   "execution_count": 16,
   "metadata": {},
   "outputs": [
    {
     "name": "stdout",
     "output_type": "stream",
     "text": [
      "정수를 입력하세요:5478\n",
      "입력된 정수  5478 의 자리수 합 =  24\n"
     ]
    }
   ],
   "source": [
    "def sumDigits(n): # 입력된 정수 n의 자리수 합을 반환하는 함수\n",
    "    sum = 0 # 자리수의 합, 처음엔 0으로 초기화\n",
    "    while n != 0:\n",
    "        sum += n % 10 # sum에 자리수를 더한다\n",
    "        n = n // 10 # 연산한 자리수를 제거한다.\n",
    "    return sum\n",
    "\n",
    "num = eval(input(\"정수를 입력하세요:\"))\n",
    "sum = sumDigits(num) # num의 자리수 합을 저장한다.\n",
    "print(\"입력된 정수 \", num, \"의 자리수 합 = \", sum)"
   ]
  },
  {
   "cell_type": "markdown",
   "metadata": {},
   "source": [
    "# 문제 6번 \n",
    "\n",
    "(3개 숫자를 정렬하기) 3개 숫자를 오름차순으로 출력하는 다음의 함수를 작성하시오.\n",
    "\n",
    "def displaySortedNumbers(num1, num2, num3):사용자로부터 3개 숫자를 입력 받고 \n",
    "\n",
    "이들 숫자를 오름차순으로 출력하기 위해 위 함수를 호출하는 테스트 프로그램을 작성하시오."
   ]
  },
  {
   "cell_type": "markdown",
   "metadata": {},
   "source": [
    "## 1. 코드설명\n",
    "\n",
    "함수 displaySortedNumbers는 인자로 받은 수 num1, num2, num3을 오름차순으로 정렬한다.\n",
    "\n",
    "먼저 num1이 num2, num3보다 작을 경우를 따진다.\n",
    "\n",
    "num2이 num3보다 작을 때 num1, num2, num3순서로 출력한다.\n",
    "\n",
    "num3이 num2보다 작을 경우 num1, num3, num2순서로 출력한다.\n",
    "\n",
    "이와 같이 num2이 가장 작을 경우, num3이 가장 작을 경우를 따져서 오름차순으로 출력한다.\n",
    "\n",
    "함수를 테스트하기 위해 사용자는 세 수 n1, n2, n3를 입력받는다.\n",
    "\n",
    "그리고 displaySortedNumbers(n1, n2, n3)을 실행한다."
   ]
  },
  {
   "cell_type": "markdown",
   "metadata": {},
   "source": [
    "## 2. 코드"
   ]
  },
  {
   "cell_type": "code",
   "execution_count": 27,
   "metadata": {},
   "outputs": [
    {
     "name": "stdout",
     "output_type": "stream",
     "text": [
      "세 수를 입력하세요:7, 8, -2\n",
      "정렬된 숫자는 -2 7 8 입니다.\n"
     ]
    }
   ],
   "source": [
    "def displaySortedNumbers(num1, num2, num3):   # 세 수를 받아서 오름차순으로 정렬하여 출력하는 함수\n",
    "    if num1 < num2 and num1 < num3:   #  num1이 가장 작을 때\n",
    "        if num2 < num3:               # num2가 num3보다 작을 때\n",
    "            print(\"정렬된 숫자는\", num1, num2, num3, \"입니다.\")\n",
    "        else:                         # num3가 num2보다 작을 때\n",
    "            print(\"정렬된 숫자는\", num1, num3, num2, \"입니다.\")\n",
    "    elif num2 < num1 and num2 < num3: # num2이 가장 작을 때\n",
    "        if num1 < num3:               # num1이 num3보다 작을 때\n",
    "            print(\"정렬된 숫자는\", num2, num1, num3, \"입니다.\")\n",
    "        else:                         # num3이 num1보다 작을 때\n",
    "            print(\"정렬된 숫자는\", num2, num3, num1, \"입니다.\")\n",
    "    elif num3 < num1 and num3 < num2: # num3이 가장 작을 때\n",
    "        if num1 < num2:               # num1이 num2보다 작을 때\n",
    "            print(\"정렬된 숫자는\", num3, num1, num2, \"입니다.\")\n",
    "        else:                         # num2이 num1보다 작을 때\n",
    "            print(\"정렬된 숫자는\", num3, num2, num1, \"입니다.\")\n",
    "\n",
    "n1, n2, n3 = eval(input(\"세 수를 입력하세요:\"))\n",
    "displaySortedNumbers(n1, n2, n3)"
   ]
  },
  {
   "cell_type": "code",
   "execution_count": null,
   "metadata": {
    "collapsed": true
   },
   "outputs": [],
   "source": []
  }
 ],
 "metadata": {
  "kernelspec": {
   "display_name": "Python 3",
   "language": "python",
   "name": "python3"
  },
  "language_info": {
   "codemirror_mode": {
    "name": "ipython",
    "version": 3
   },
   "file_extension": ".py",
   "mimetype": "text/x-python",
   "name": "python",
   "nbconvert_exporter": "python",
   "pygments_lexer": "ipython3",
   "version": "3.6.1"
  }
 },
 "nbformat": 4,
 "nbformat_minor": 2
}
