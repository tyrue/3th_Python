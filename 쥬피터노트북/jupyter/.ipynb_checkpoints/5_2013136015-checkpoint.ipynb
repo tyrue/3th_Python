{
 "cells": [
  {
   "cell_type": "markdown",
   "metadata": {},
   "source": [
    "# 문제 1번\n",
    "\n",
    "(0과 1의 행렬 출력하기) n*n 행렬을 출력하는 함수를 작성하시오. 함수 헤더는 다음과 같다.\n",
    "\n",
    "def printMatrix(n):\n",
    "\n",
    "각 원소는 0이나 1의 값을 가지며 랜덤하게 생성된다. 사용자로부터 n을 입력받고 \n",
    "\n",
    "n*n 행렬을 출력하는 테스트 프로그램을 작성하시오."
   ]
  },
  {
   "cell_type": "markdown",
   "metadata": {},
   "source": [
    "## 1.코드 설명\n",
    "\n",
    "함수에서 인자 n을 받아 랜덤으로 0또는 1을 원소로 가지는 n*n 행렬을 출력하는 프로그램이다.\n",
    "\n",
    "먼저 랜덤함수를 사용하기 위해 random 모듈을 import한다.\n",
    "\n",
    "그다음 함수를 정의하는데 함수의 헤더는 printMatrix(n)이다.\n",
    "\n",
    "이 함수 안에서 행렬을 출력하는데, 만약 n이 음수가 될 수도 있기 때문에 n이 양수를 받을 때 까지 무한 루프를 돌도록 한다.\n",
    "\n",
    "만약 n이 음수라면 다시 입력 받도록 한다.\n",
    "\n",
    "n이 양수면, 이중 for문을 사용하고, 각 for문은 n번 반복하도록 한다.\n",
    "\n",
    "안쪽 for문에서는 randint(0,1) 함수를 사용하여 0또는 1을 출력하도록 하고, 한 행에 출력하도록 \n",
    "\n",
    "print (random.randint(0, 1), end=\" \")한다.\n",
    "\n",
    "바깥 for문에서는 한 행이 출력이 끝났으므로 print()하여 줄 바꿈을 해준다.\n",
    "\n",
    "행렬을 모두 출력하면 break하여 반복문을 빠져나가고 함수를 종료한다.\n",
    "\n",
    "그리고 main()함수를 정의 한다. main()함수는 n을 입력받고, printMatrix함수에 n을 인자로 보내 행렬을 출력한다.\n",
    "\n",
    "마지막으로 main함수를 호출하여 프로그램을 실행한다."
   ]
  },
  {
   "cell_type": "markdown",
   "metadata": {},
   "source": [
    "## 2. 코드"
   ]
  },
  {
   "cell_type": "code",
   "execution_count": 5,
   "metadata": {},
   "outputs": [
    {
     "name": "stdout",
     "output_type": "stream",
     "text": [
      "n을 입력하세요:-3\n",
      "양수만 가능합니다.\n",
      "n을 입력하세요:7\n",
      "0 1 1 0 1 1 1 \n",
      "1 0 0 0 0 0 0 \n",
      "0 1 1 1 0 0 1 \n",
      "1 0 1 1 0 1 0 \n",
      "1 1 0 0 1 0 0 \n",
      "0 1 0 1 0 1 0 \n",
      "1 0 0 1 1 1 1 \n"
     ]
    }
   ],
   "source": [
    "import random       # randint 함수를 사용하기 위한 random모듈 임포트\n",
    "\n",
    "def printMatrix(n): # 함수는 인자 n을 받으면 0또는 1의 n*n행렬을 출력한다.\n",
    "    while True :    # n이 음수 일 수도 있으므로 n이 양수를 가지기 위해 무한 루프를 돈다.\n",
    "        if n <= 0:  # n이 음수일 때 n을 다시 입력받는다.\n",
    "            print(\"양수만 가능합니다.\")\n",
    "            n = eval(input(\"n을 입력하세요:\"))\n",
    "        else:       # n이 양수일 때 \n",
    "            for i in range(n):      # n행\n",
    "                for j in range(n):  # n열\n",
    "                    print (random.randint(0, 1), end=\" \") # 각 원소는 0또는 1을 가진다.\n",
    "                print () # 한 행을 출력하면 다음 행으로 넘어감\n",
    "            break   # 행렬을 모두 출력하면 루프를 벗어난다.\n",
    "        \n",
    "def main():  # 메인 함수, n을 입력받고 행렬 함수를 호출한다.\n",
    "    n = eval(input(\"n을 입력하세요:\"))\n",
    "    printMatrix(n)\n",
    "\n",
    "main() # 메인함수 호출"
   ]
  },
  {
   "cell_type": "markdown",
   "metadata": {},
   "source": [
    "# 문제 2번\n",
    "(수소) 수소(emirp, 영문 prime의 역순)는 비대칭 소수(nonpalindromic prime number)이고 \n",
    "\n",
    "이 소수의 역순도 소수이다. 예를 들어, 17과 71은 소수인 동시에 수소이다. \n",
    "\n",
    "최초 100개의 수소를 출력하는 프로그램을 작성하시오. 한 행당10개의 수소를 출력하고 \n",
    "\n",
    "다음과 같이 적절히 정렬하시오.\n",
    "\n",
    "13 17 31 37 71 73 79 97 107 113\n",
    "\n",
    "149 157 167 179 199 311 337 347 359 389"
   ]
  },
  {
   "cell_type": "markdown",
   "metadata": {},
   "source": [
    "## 1.코드 설명\n",
    "\n",
    "수소를 100개 출력하는데, 함수에서 인자 n을 받아 n이 수소인지 판별하여 수소라면 main함수에서 출력하도록 한다.\n",
    "\n",
    "1) 먼저 수소인지 판별하는 함수 isEmirp(n)을 정의한다. 수소는 비대칭 소수이면서, 역순도 소수가 되야한다.\n",
    "\n",
    "함수 안에서 먼저 매개변수 n이 소수인지 검사한다. n이 2부터 n-1까지의 수에서 나눠진다면, n은 소수가 아니므로 False를 반환한다.\n",
    "\n",
    "다음엔 비대칭 소수인지 판별한다. 이 소수를 역순으로 쉽게 바꾸기 위해 str(n)하여 문자열로 바꾸는데, 이 값을 변수 s에 저장한다.\n",
    "\n",
    "s의 역순은 s[::-1]로 알 수 있다.\n",
    "\n",
    "만약 s와 s[::-1]이 같다면, n은 비대칭 소수가 아니기 때문에 False를 반환한다.\n",
    "\n",
    "마지막으로 역수가 소수인지 판별한다. eval(s[::-1])하여 문자열을 숫자로 바꾸고 이 값을 다시 매개변수 n에 저장한다.\n",
    "\n",
    "처음과 같이 n이 2부터 n-1까지의 수에서 나눠진다면, n은 소수가 아니므로 False를 반환한다.\n",
    "\n",
    "모든 검사가 다 끝나면 n은 수소이므로 True를 반환한다.\n",
    "\n",
    "\n",
    "2) main함수는 isEmirp함수를 호출하여 수소를 판별하고, 수소를 100개 출력하는데 한 행에 10개씩 출력하도록 한다.\n",
    "\n",
    "먼저 두 변수, 출력된 수소 개수 countEmirp, 수소인지 판별할 정수 num을 0으로 초기화 한다.\n",
    "\n",
    "다음으로 while True하여 수소가 100개가 출력될 때 까지 무한 반복하도록 한다.\n",
    "\n",
    "반복문안에 먼저 n + 1하여 1부터 시작하도록 한다.\n",
    "\n",
    "그다음 조건문에서 isEmirp(num)이 True인지 검사한다.\n",
    "\n",
    "True라면 num은 수소이므로, countEmirp를 + 1하고, print(num, end=\" \")하여 한 행에 출력한다.\n",
    "\n",
    "만약 countEmirp가 100이면, 수소를 100개 출력 한 것이기 때문에 break하여 반복문을 탈출하고, 함수를 종료한다.\n",
    "\n",
    "만약 countEmirp가 10의 배수면, 한 행에 수소를 10개 출력 했기 때문에 줄 바꿈을 한다.\n",
    "\n",
    "main함수 정의가 끝나면 마지막으로 main()함수를 호출하여 프로그램을 실행한다."
   ]
  },
  {
   "cell_type": "markdown",
   "metadata": {},
   "source": [
    "## 2. 코드"
   ]
  },
  {
   "cell_type": "code",
   "execution_count": 3,
   "metadata": {},
   "outputs": [
    {
     "name": "stdout",
     "output_type": "stream",
     "text": [
      "수소 100개를 출력합니다.\n",
      "13 17 31 37 71 73 79 97 107 113 \n",
      "149 157 167 179 199 311 337 347 359 389 \n",
      "701 709 733 739 743 751 761 769 907 937 \n",
      "941 953 967 971 983 991 1009 1021 1031 1033 \n",
      "1061 1069 1091 1097 1103 1109 1151 1153 1181 1193 \n",
      "1201 1213 1217 1223 1229 1231 1237 1249 1259 1279 \n",
      "1283 1301 1321 1381 1399 1409 1429 1439 1453 1471 \n",
      "1487 1499 1511 1523 1559 1583 1597 1601 1619 1657 \n",
      "1669 1723 1733 1741 1753 1789 1811 1831 1847 1867 \n",
      "1879 1901 1913 1933 1949 1979 3011 3019 3023 3049 "
     ]
    }
   ],
   "source": [
    "def isEmirp(n): # 수소인지 살펴보는 함수, 부울값을 반환한다.\n",
    "    # 먼저 원래 숫자가 소수인지 검사한다.\n",
    "    for i in range(2, n): # 2부터 n-1까지 \n",
    "        if n % i == 0:\n",
    "            return False # 나눠지면 소수가 아니다.\n",
    "\n",
    "    s = str(n)         # [::-1]을 사용하기 위해 문자열로 변환,[::-1]은 문자열을 뒤짚는다.\n",
    "    if s == s[::-1]:   # 대칭 수는 수소가 아니다.\n",
    "        return False\n",
    "\n",
    "    n = eval(s[::-1]) # 역순의 수를 저장한다.\n",
    "\n",
    "    # 마지막으로 역수가 소수인지 검사한다.\n",
    "    for i in range(2, n):\n",
    "        if n % i == 0:\n",
    "            return False\n",
    "\n",
    "    return True # 검사를 통과 한 수는 수소이다.\n",
    "\n",
    "def main():\n",
    "    countEmirp = 0 # 출력된 수소 개수\n",
    "    num = 0 # 수소인지 판별할 정수\n",
    "    print(\"수소 100개를 출력합니다.\")\n",
    "    \n",
    "    while True: # 수소를 100개 출력할 때 까지 무한반복한다.\n",
    "        num += 1 # 다음 정수로 넘어간다.\n",
    "        if isEmirp(num): # 수소판별 함수에서 True 반환 시 출력한다.\n",
    "            countEmirp += 1 # 수소 개수 +1\n",
    "            print(num, end=\" \")\n",
    "            \n",
    "            if countEmirp == 100: # 100개를 출력하면 반복문을 빠져나간다.\n",
    "                break\n",
    "            if countEmirp % 10 == 0: # 한 행에 10개씩 출력할 때 마다 줄바꿈을 해준다.\n",
    "                print()\n",
    "main()"
   ]
  },
  {
   "cell_type": "markdown",
   "metadata": {},
   "source": [
    "# 문제 3번\n",
    "(Rectangle 클래스) Circle 클래스 예제를 참조하여 사각형을 표현하는Rectangle이라는 클래스를 구현하시오. \n",
    "\n",
    "Rentangle 클래스는 다음을 포함한다.두 데이터 필드: width와 height\n",
    "\n",
    "특정 폭(width)과 높이(height)를 갖는 사각형을 생성하는 생성자. 폭과 높이의 기본값은 각각 1과 2이다.\n",
    "\n",
    "사각형의 넓이를 반환하는 getArea() 메소드\n",
    "\n",
    "사각형의 둘레를 반환하는 getPerimeter() 메소드\n",
    "\n",
    "하나는 폭 4, 높이 10, 다른 하나는 폭 3.5, 높이 35.7인 두 사각형을 생성하는 테스트 프로그램을 작성하시오. \n",
    "\n",
    "각 사각형의 폭, 높이, 넓이 및 둘레 순으로 출력하시오.\n"
   ]
  },
  {
   "cell_type": "markdown",
   "metadata": {},
   "source": [
    "## 1.코드 설명\n",
    "\n",
    "1) Rectangle 클래스를 구현하고, Rectangle 객체 2개를 생성하여 클래스를 테스트하는 프로그램이다.\n",
    "\n",
    "먼저 Rectangle 클래스를 정의한다. 클래스는 private인 인스턴스 변수 폭__width, 높이__height를 갖는다.\n",
    "\n",
    "생성자에서 각 변수는 인자로 받은 값으로 초기화하는데, __width는 기본값으로 1, __height는 기본값으로 2를 가진다.\n",
    "\n",
    "각 인스턴스 변수는 private이기 때문에, 접근자와 설정자를 갖는데, 설정자는 인수로 양수만 받도록 한다.\n",
    "\n",
    "클래스는 메소드로 넓이를 반환하는 getArea(), 둘레를 반환하는 getPerimeter()를 갖는다.\n",
    "\n",
    "먼저 넓이는 폭 * 높이이므로, getArea()메소드는 return self.__width * self.__height하여 넓이를 반환한다.\n",
    "\n",
    "마지막으로 둘레는 2*(폭+높이)이므로, getPerimeter()메소드는 return 2 * (self.__width + self.__height)하여 둘레를 반환한다.\n",
    "\n",
    "\n",
    "2) main함수는 Rectangle 객체 2개를 생성하고, 각 객체의 폭, 높이, 넓이, 둘레를 출력한다.\n",
    "\n",
    "먼저 폭이 4, 높이가 10인 Rectangle 객체 r1, 폭이 3.5, 높이가 35.7인 Rectangle 객체 r2을 생성한다.\n",
    "\n",
    "그 다음 각 객체의 메소드 getWidth(), getHeight(), getArea(), getPerimeter()를 차례대로 호출하여 폭, 높이, 넓이, 둘레를 출력한다.\n",
    "\n",
    "r2는 실수 값을 가진 객체이므로, getArea()의 값을 보기좋기 하기 위해 소수점 2자리까지만 출력하도록 한다.\n",
    "\n",
    "마지막으로 main함수를 호출하여 프로그램을 실행한다."
   ]
  },
  {
   "cell_type": "markdown",
   "metadata": {},
   "source": [
    "## 2. 코드"
   ]
  },
  {
   "cell_type": "code",
   "execution_count": 4,
   "metadata": {},
   "outputs": [
    {
     "name": "stdout",
     "output_type": "stream",
     "text": [
      "r1의 폭 : 4 , r2의 폭 : 3.5\n",
      "r1의 높이 : 10 , r2의 높이 : 35.7\n",
      "r1의 넓이 : 40 , r2의 넓이 : 124.95\n",
      "r1의 둘레 : 28 , r2의 둘레 : 78.4\n"
     ]
    }
   ],
   "source": [
    "# 사각형 클래스\n",
    "class Rectangle:\n",
    "    def __init__(self, width = 1, height = 2): # 생성자, 기본 값으로 폭은 1,높이는 2를 가진다.\n",
    "        # private 인스턴스 변수, 인자로 받은 값으로 값을 초기화 한다.\n",
    "        self.__width = width    \n",
    "        self.__height = height\n",
    "    # 데이터 필드의 접근자\n",
    "    def getWidth(self):\n",
    "        return self.__width\n",
    "    def getHeight(self):\n",
    "        return self.__height\n",
    "    # 데이터 필드의 설정자, 양수만 받도록 한다.\n",
    "    def setWidth(self, w):\n",
    "        if w > 0:\n",
    "            self.__width = w\n",
    "        else:\n",
    "            print(\"양수만 가능합니다.\")\n",
    "    def setHeight(self, h):\n",
    "        if h > 0:\n",
    "            self.__height = h\n",
    "        else:\n",
    "            print(\"양수만 가능합니다.\")\n",
    "        \n",
    "    def getArea(self):  # 넓이를 반환하는 함수\n",
    "        return self.__width * self.__height # 폭 * 높이\n",
    "    def getPerimeter(self): # 둘레를 반환하는 함수\n",
    "        return 2 * (self.__width + self.__height) # 2*(폭 + 높이)\n",
    "    \n",
    "def main():\n",
    "    r1 = Rectangle(4, 10)     # 폭이 4, 높이가 10인 사각형 객체\n",
    "    r2 = Rectangle(3.5, 35.7) # 폭이 3.5, 높이가 35.7인 사각형 객체\n",
    "    \n",
    "    print(\"r1의 폭 :\", r1.getWidth(), \", r2의 폭 :\", r2.getWidth())\n",
    "    print(\"r1의 높이 :\", r1.getHeight(), \", r2의 높이 :\", r2.getHeight())\n",
    "    print(\"r1의 넓이 :\", r1.getArea(), \", r2의 넓이 :\", format(r2.getArea(),\".2f\")) # r2의 넓이는 소수점 2자리까지 출력하도록 한다.\n",
    "    print(\"r1의 둘레 :\", r1.getPerimeter(), \", r2의 둘레 :\", r2.getPerimeter())\n",
    "    \n",
    "main()"
   ]
  }
 ],
 "metadata": {
  "kernelspec": {
   "display_name": "Python 3",
   "language": "python",
   "name": "python3"
  },
  "language_info": {
   "codemirror_mode": {
    "name": "ipython",
    "version": 3
   },
   "file_extension": ".py",
   "mimetype": "text/x-python",
   "name": "python",
   "nbconvert_exporter": "python",
   "pygments_lexer": "ipython3",
   "version": "3.6.3"
  }
 },
 "nbformat": 4,
 "nbformat_minor": 2
}
