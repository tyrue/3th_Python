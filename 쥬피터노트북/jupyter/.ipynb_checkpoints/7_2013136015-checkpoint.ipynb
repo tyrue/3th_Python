{
 "cells": [
  {
   "cell_type": "markdown",
   "metadata": {},
   "source": [
    "# 문제 1번\n",
    "\n",
    "(지정된 문자의 빈도수) 어떤 문자열에서 지정된 문자의 빈도수\n",
    "를 찾는 함수를 작성하시오.\n",
    "\n",
    "함수 헤더는 다음과 같다.\n",
    "def count(s, ch):\n",
    "\n",
    "str 클래스는 count 메소드를 이미 가지고 있다. \n",
    "str 클래스의 count 메소드를 사용하지 않고 자신만의 메소드를 구현하여 사용하시오. \n",
    "\n",
    "예를 들어,count(“Welcome”, ‘e’)는 2 를 반환한다. 사용자로부터 하나의 문자열과 하나의 문자를 입력받고 \n",
    "\n",
    "그 문자열 내에 입력된 문자의 빈도수를 출력하는 테스트 프로그램을 작성하시오."
   ]
  },
  {
   "cell_type": "markdown",
   "metadata": {},
   "source": [
    "## 1.코드 설명\n",
    "\n",
    "1) count 함수는 인자로 문자열 s와 빈도수를 찾을 문자 ch를 받는다. 먼저 함수안에서 빈도수를 의미하는 변수 c를 0으로 초기화한다.\n",
    "\n",
    "그리고 문자열 s를 처음부터 끝까지 순서대로 각 자리의 문자를 확인하여 ch와 같은지 확인하는데, ch와 같으면 c를 1증가 시킨다. \n",
    "\n",
    "마지막으로 c를 반환하여 빈도수를 반환한다.\n",
    "\n",
    "2) 메인 메소드에서 먼저 문자열 s와 빈도수를 찾을 문자 ch를 입력받는다. 그리고 count함수를 호출하여 s안의 ch의 빈도수를 측정한다.\n",
    "\n",
    "마지막으로 main을 호출하여 프로그램을 실행한다."
   ]
  },
  {
   "cell_type": "markdown",
   "metadata": {},
   "source": [
    "## 2. 코드"
   ]
  },
  {
   "cell_type": "code",
   "execution_count": 5,
   "metadata": {},
   "outputs": [
    {
     "name": "stdout",
     "output_type": "stream",
     "text": [
      "문자열을 입력하세요 : Welcome\n",
      "빈도수를 찾을 문자를 입력하세요 : w\n",
      "Welcome 에서  w 의 빈도수 :  0\n"
     ]
    }
   ],
   "source": [
    "def count(s, ch): # 문자열 s에서 문자 ch의 빈도수를 반환하는 함수\n",
    "    c = 0 # 빈도수\n",
    "    for i in range(len(s)): # 문자열 길이 만큼 반복\n",
    "        if s[i] == ch: # 문자가 ch라면 빈도수 1 증가\n",
    "            c += 1\n",
    "    return c\n",
    "\n",
    "def main(): # 메인 메소드\n",
    "    s = input(\"문자열을 입력하세요 : \")\n",
    "    ch = input(\"빈도수를 찾을 문자를 입력하세요 : \")\n",
    "    print(s, \"에서 \", ch, \"의 빈도수 : \", count(s, ch))\n",
    "\n",
    "main() # 프로그램 실행"
   ]
  },
  {
   "cell_type": "markdown",
   "metadata": {},
   "source": [
    "# 문제 2번\n",
    "\n",
    "(최장 공통 접두어) 두 문자열의 최장 공통 접두어를 반환하는메소드를 작성하시오.\n",
    "\n",
    "예를 들어, distance 와 disinfection 의 최장 공통접두어는 dis 이다. \n",
    "\n",
    "이 메소드의 헤더는 다음과 같다.def prefix(s1, s2):\n",
    "\n",
    "두 문자열에 공통 접두어가 없다면, 빈 문자열을 반환한다.\n",
    "\n",
    "사용자로부터 두 문자열을 입력받고 이들의 최장 공통 접두어를 출력하는 main 메소드를 작성하시오"
   ]
  },
  {
   "cell_type": "markdown",
   "metadata": {},
   "source": [
    "## 1.코드 설명\n",
    "\n",
    "1) prefix함수는 문자열 s1, s2를 인자로 받는다. 먼저 최장 공통 접두어의 길이를 의미하는 변수 end를 선언하는데,\n",
    "\n",
    "공통 접두어가 없을 수도 있으므로 처음엔 -1로 초기화한다.\n",
    "\n",
    "다음으로 변수 min을 인덱스 오류를 방지하기 위해서 s1과 s2중 가장 작은 문자열의 길이로 초기화한다. \n",
    "\n",
    "다음으로 for문에서 s1과 s2의 처음부터 i번째 인덱스 까지의 문자를 비교하는데, 두 문자열이 같다면 end를 i로 설정한다.\n",
    "\n",
    "이를 min번 반복한다.\n",
    "\n",
    "마지막으로 s1의 처음부터 end 인덱스 까지의 문자열을 반환한다. s1이나 s2의 end 인덱스 까지의 문자열은 같기 때문이다.\n",
    "\n",
    "2) 메인 메소드에서 먼저 문자열 s1, s2를 입력받고, 함수 prefix를 호출하여 두 문자열의 최장 공통 접두어를 출력한다.\n",
    "\n",
    "마지막으로 main을 호출하여 프로그램을 실행한다."
   ]
  },
  {
   "cell_type": "markdown",
   "metadata": {},
   "source": [
    "## 2. 코드"
   ]
  },
  {
   "cell_type": "code",
   "execution_count": 13,
   "metadata": {},
   "outputs": [
    {
     "name": "stdout",
     "output_type": "stream",
     "text": [
      "첫 번째 문자열을 입력하세요 : distace\n",
      "두 번째 문자열을 입력하세요 : disi\n",
      "distace 과  disi 의 최장 공통 접두어 :  dis\n"
     ]
    }
   ],
   "source": [
    "def prefix(s1, s2): # 최장 공통 접두어를 반환하는 함수\n",
    "    end = -1 # 최장 공통 접두어의 끝 위치, 만약 공통 접두어가 없다면 빈 문자열을 반환하기 위해 -1로 설정\n",
    "    \n",
    "    min = len(s1) if len(s1) < len(s2) else len(s2) # 두 문자열중 작은 문자열의 길이, 긴 문자열의 길이로 설정하면 인덱스 오류 발생\n",
    "    for i in range(min):\n",
    "        if s1[:i+1] == s2[:i+1]: # 처음부터 i번째 문자까지 같다면 end를 i로 설정한다.\n",
    "            end = i+1\n",
    "    return s1[:end] # 최장 공통 접두어 반환\n",
    "\n",
    "def main(): # 메인 메소드\n",
    "    s1 = input(\"첫 번째 문자열을 입력하세요 : \")\n",
    "    s2 = input(\"두 번째 문자열을 입력하세요 : \")\n",
    "    print(s1, \"과 \", s2, \"의 최장 공통 접두어 : \", prefix(s1, s2))\n",
    "\n",
    "main() # 프로그램 실행"
   ]
  },
  {
   "cell_type": "markdown",
   "metadata": {},
   "source": [
    "# 문제 3번\n",
    "\n",
    "(기업 업무: ISBN-13 검사) ISBN-13 은 도서 식별을 위한 새로운 표준이다. \n",
    "\n",
    "이 표준은 13 자리 숫자,d1d2d3d4d5d6d7d8d9d10d11d12d13을 사용한다. \n",
    "\n",
    "마지막 자리 숫자 d13은 체크섬이며, 다른 자리의 숫자들을 이용하여 다음의 수식에 의해서 계산된다.\n",
    "\n",
    "10 − (d1 + 3d2 + d3 + 3d4 + d5 + 3d6 + d7 + 3d8 + d9 + 3d10 + d11 + 3d12 )% 10\n",
    "\n",
    "체크섬이 10 이면, 마지막 자리를 0 으로 설정한다. 입력값은 문자열로 읽어야 한다."
   ]
  },
  {
   "cell_type": "markdown",
   "metadata": {},
   "source": [
    "## 1.코드 설명\n",
    "\n",
    "1) isbn_13함수는 12자리 숫자 문자열 s을 인자로 받아서 s뒤에 체크섬을 붙여 반환한다.\n",
    "\n",
    "먼저 각 자리수를 더할 변수 sum을 0으로 초기화한다. 다음으로 for문에서 짝수 자리수는 그냥, 홀수 자리수는 3을 곱해서 sum에 더한다.\n",
    "\n",
    "이를 문자열 s의 길이 만큼 반복한다.\n",
    "\n",
    "반복문을 나가면 체크섬 변수 check을 10-sum%10로 초기화한다. 만약 check가 10이라면 0으로 변환하고 s뒤에 붙여서 반환하고,\n",
    "\n",
    "10이 아니라면 그냥 s뒤에 check를 붙여서 반환한다.\n",
    "\n",
    "2) 메인 메소드에서 먼저 ISBN-13의 첫 12자리를 문자열로 입력받는다. 그리고 함수 isbn_13을 호출하여 ISBN-13자리를 출력한다.\n",
    "\n",
    "마지막으로 main을 호출하여 프로그램을 실행한다."
   ]
  },
  {
   "cell_type": "markdown",
   "metadata": {},
   "source": [
    "## 2. 코드"
   ]
  },
  {
   "cell_type": "code",
   "execution_count": 1,
   "metadata": {},
   "outputs": [
    {
     "name": "stdout",
     "output_type": "stream",
     "text": [
      "ISBN-13 의 첫 12 자리를 문자열로 입력하세요 : 978013213079\n",
      "ISBN-13 번호는 9780132130790 입니다.\n"
     ]
    }
   ],
   "source": [
    "def isbn_13(s):\n",
    "    sum = 0 # 각 자리수를 더할 변수\n",
    "    for i in range(len(s)): # 문자열 길이 만큼 반복\n",
    "        if i % 2 == 0: # 짝수 일 때 자리수만 더함\n",
    "            sum += eval(s[i]) \n",
    "        else:          # 홀수 일 때 자리수*3을 더함\n",
    "            sum += 3 * eval(s[i])\n",
    "    check = 10 - sum % 10 # 체크섬\n",
    "    if check == 10: # 체크섬이 10이면 0으로 설정한다\n",
    "        return s + \"0\"\n",
    "    else: # 아니라면 체크섬 그대로 붙인다.\n",
    "        return s + str(check) # 숫자를 문자열로 변환하여 붙인다.\n",
    "\n",
    "def main(): # 메인 메소드\n",
    "    isbn = input(\"ISBN-13 의 첫 12 자리를 문자열로 입력하세요 : \")\n",
    "    print(\"ISBN-13 번호는\", isbn_13(isbn) ,\"입니다.\")\n",
    "\n",
    "main() # 프로그램 실행"
   ]
  },
  {
   "cell_type": "markdown",
   "metadata": {},
   "source": [
    "# 문제 4번\n",
    "\n",
    "(숫자의 빈도수) 1 과 100 사이의 정수들을 입력받고 각 정수의\n",
    "빈도수를 세는 프로그램을 작성하시오."
   ]
  },
  {
   "cell_type": "markdown",
   "metadata": {},
   "source": [
    "## 1.코드 설명\n",
    "\n",
    "1) count_num함수는 숫자 문자열 s를 인자로 받아서 문자열에 있는 각 정수의 빈도수를 출력한다.\n",
    "\n",
    "먼저 숫자 문자열 s를 공백을 기준으로 split하여 리스트 nlist에 저장한다. \n",
    "\n",
    "그리고 문자인 nlist의 각 원소들을 숫자로 변경하고, sort하여 오름차순으로 정렬한다. \n",
    "\n",
    "다음 중복되는 숫자를 무시하기 위한 변수 min을 0으로 초기화한다.\n",
    "\n",
    "그리고 for문에서 만약 min이 nlist[i]보다 작다면 nlist[i]를 count함수를 사용하여 빈도수를 출력하고, min을 nlist[i]로 설정한다.\n",
    "\n",
    "이를 nlist 크기만큼 반복한다.\n",
    "\n",
    "2) 메인 메소드에서 먼저 1과 100사이의 정수를 입력받는다. 그리고 함수 count_num을 호출하여 입력받은 숫자의 빈도수를 출력한다.\n",
    "\n",
    "마지막으로 main을 호출하여 프로그램을 실행한다."
   ]
  },
  {
   "cell_type": "markdown",
   "metadata": {},
   "source": [
    "## 2. 코드"
   ]
  },
  {
   "cell_type": "code",
   "execution_count": 4,
   "metadata": {},
   "outputs": [
    {
     "name": "stdout",
     "output_type": "stream",
     "text": [
      "1과 100사이의 정수를 입력하세요 : 2 2 2 0 0 0 1 3 5 7 8 9\n",
      "1 - 1 번 나타납니다.\n",
      "2 - 3 번 나타납니다.\n",
      "3 - 1 번 나타납니다.\n",
      "5 - 1 번 나타납니다.\n",
      "7 - 1 번 나타납니다.\n",
      "8 - 1 번 나타납니다.\n",
      "9 - 1 번 나타납니다.\n"
     ]
    }
   ],
   "source": [
    "def count_num(s): # 입력받은 정수들에서 각 정수의 빈도수를 출력하는 함수\n",
    "    nlist = s.split(' ') # 숫자 문자열을 공백을 기준으로 나눠 리스트로 변환한다.\n",
    "    for i in range(len(nlist)):\n",
    "        nlist[i] = eval(nlist[i]) # 문자인 리스트의 원소를 숫자로 변환한다.\n",
    "    nlist.sort() # 리스트를 오름차순으로 정렬한다.\n",
    "    \n",
    "    min = 0 # 중복되는 숫자를 무시하기 위한 변수\n",
    "    for i in range(len(nlist)): # 리스트 크기만큼 반복\n",
    "        if min < nlist[i]: # 이전 정수보다 클 때만 빈도수 출력\n",
    "            print(nlist[i], \"-\", nlist.count(nlist[i]), \"번 나타납니다.\") # 빈도수 출력\n",
    "            min = nlist[i] # 다음 정수\n",
    "            \n",
    "def main(): # 메인 메소드\n",
    "    s_num = input(\"1과 100사이의 정수를 입력하세요 : \")\n",
    "    count_num(s_num) # 빈도수 출력\n",
    "\n",
    "main() # 프로그램 실행"
   ]
  },
  {
   "cell_type": "markdown",
   "metadata": {},
   "source": [
    "# 문제 5번\n",
    "\n",
    "(가장 작은 원소의 인덱스 찾기) 정수 리스트에서 가장 작은 원소의 인덱스를 반환하는 함수를 작성하시오. \n",
    "\n",
    "만약 그러한 원소가 두 개 이상이라면, 그 중에 가장 작은 인덱스를 반환한다. \n",
    "\n",
    "다음의 헤더를 사용하라.def indexOfSmallestElement(lst):\n",
    "\n",
    "사용자로부터 정수 리스트를 입력받고, 위 함수를 호출하여 가장 작은 원소의 인덱스를 찾아서 \n",
    "\n",
    "그 인덱스를 출력하는 테스트 프로그램을 작성하시오"
   ]
  },
  {
   "cell_type": "markdown",
   "metadata": {},
   "source": [
    "## 1.코드 설명\n",
    "\n",
    "1) indexOfSmallestElement 함수는 리스트lst를 인자로 받는다. 그리고 for문에서 lst[i]가 min(lst)인지 비교하고, \n",
    "\n",
    "만약 맞다면 인덱스 i를 반환하여 가장 작은 원소의 인덱스를 반환한다.\n",
    "\n",
    "2) 메인 메소드에서 먼저 숫자 문자열 s을 입력받는데, 각 숫자를 ,로 구분하여 입력받도록 한다.\n",
    "\n",
    "다음으로 리스트 nlist에 문자열 s를 ','로 구분하여 저장하고, 문자인 리스트의 원소를 숫자로 변경한다.\n",
    "\n",
    "마지막으로 indexOfSmallestElement 함수를 호출하여 가장 작은 원소의 인덱스 값을 출력한다.\n",
    "\n",
    "main을 호출하여 프로그램을 실행한다."
   ]
  },
  {
   "cell_type": "markdown",
   "metadata": {},
   "source": [
    "## 2. 코드"
   ]
  },
  {
   "cell_type": "code",
   "execution_count": 23,
   "metadata": {},
   "outputs": [
    {
     "name": "stdout",
     "output_type": "stream",
     "text": [
      "정수 리스트를 입력하세요(,으로 구분) : 5, 8, -1, 20\n",
      "리스트 [5, 8, -1, 20] 의 가장 작은 원소의 인덱스 값 :  2\n"
     ]
    }
   ],
   "source": [
    "def indexOfSmallestElement(lst): # 리스트 중 가장 작은 원소의 인덱스를 반환하는 함수\n",
    "    for i in range(len(lst)): # 리스트 크기만큼 반복\n",
    "        if lst[i] == min(lst): # i번째 원소가 최소값이라면 인덱스 i 반환\n",
    "            return i\n",
    "\n",
    "def main(): # 메인 메소드\n",
    "    s = input(\"정수 리스트를 입력하세요(,으로 구분) : \") # 숫자를 문자열로 입력받음\n",
    "    nlist = s.split(',') # 입력받은 문자열을 ,로 나눠 리스트로 변경\n",
    "    for i in range(len(nlist)): # 문자인 원소를 숫자로 변경\n",
    "        nlist[i] = eval(nlist[i])\n",
    "    print(\"리스트\", nlist, \"의 가장 작은 원소의 인덱스 값 : \", indexOfSmallestElement(nlist)) # 가장 작은 원소의 인덱스 출력\n",
    "    \n",
    "main() # 프로그램 실행"
   ]
  },
  {
   "cell_type": "markdown",
   "metadata": {},
   "source": [
    "# 문제 6번\n",
    "\n",
    "(랜덤 숫자 선택기) random.shuffle(lst)를 사용하여 리스트내의 숫자들을 랜덤하게 섞을 수 있다. \n",
    "\n",
    "random.shuffle(lst)를 사용하지않고 리스트 내의 숫자들을 랜덤하게 섞고\n",
    "\n",
    "그 리스트를 반환하는 자신만의 함수를 작성하시오. 다음의 함수 헤더를 사용하라. def shuffle(lst):\n",
    "\n",
    "사용자로부터 숫자 리스트를 입력받고, 위 함수를 이용하여 랜덤하게 섞여진 숫자들을 출력하는 테스트 프로그램을 작성하시오."
   ]
  },
  {
   "cell_type": "markdown",
   "metadata": {},
   "source": [
    "## 1.코드 설명\n",
    "\n",
    "1) shuffle함수는 인자로 리스트 lst를 받는다. 그리고 랜덤으로 고른 인덱스를 확인할 리스트 check와 \n",
    "\n",
    "그 인덱스의 lst의 원소를 저장할 리스트 list1를 선언하는데, 길이는 len(lst), 각 원소는 0으로 한다.\n",
    "\n",
    "다음으로 for문에서 먼저 0~len(lst)-1 중의 난수를 a에 저장하고, 만약 check[a]가 0이라면 list1[i]를 lst[a]로 저장한다.\n",
    "\n",
    "그리고 check[a]를 1증가 하여 선택된 인덱스로 설정한다.\n",
    "\n",
    "만약 check[a]가 0이 아니라면 다시 check[a]가 0이 될 때 까지 while문에서 a를 0~len(lst)-1 중의 난수로 저장한다.\n",
    "\n",
    "while문을 빠져나가면 list1[i]를 lst[a]로 저장하고 check[a]를 1증가한다.\n",
    "\n",
    "이를 lst크기만큼 반복하고, for문을 빠져나가면 list1을 반환한다.\n",
    "\n",
    "2) 메인 메소드에서 먼저 정수 문자열 s를 입력받고, 리스트 nlist에 문자열 s를 ','로 구분하여 저장한다. \n",
    "\n",
    "다음으로 shuffle 함수를 호출하여 리스트 nlist를 랜덤으로 섞은 결과를 출력한다.\n",
    "\n",
    "마지막으로 main을 호출하여 프로그램을 실행한다."
   ]
  },
  {
   "cell_type": "markdown",
   "metadata": {},
   "source": [
    "## 2. 코드"
   ]
  },
  {
   "cell_type": "code",
   "execution_count": 7,
   "metadata": {},
   "outputs": [
    {
     "name": "stdout",
     "output_type": "stream",
     "text": [
      "정수 리스트를 입력하세요(,으로 구분) : 0, 1, 2, 3, 4, 5, 6, 7, 8, 9\n",
      "리스트 ['0', ' 1', ' 2', ' 3', ' 4', ' 5', ' 6', ' 7', ' 8', ' 9'] 의\n",
      "shuffle 결과 :  [' 2', ' 7', '0', ' 4', ' 8', ' 3', ' 1', ' 6', ' 5', ' 9']\n"
     ]
    }
   ],
   "source": [
    "import random # 랜덤 메소드를 사용하기 위한 모듈\n",
    "\n",
    "def shuffle(lst): # 리스트내의 숫자들을 랜덤하게 섞는 함수\n",
    "    check = [0 for i in range(len(lst))] # 랜덤으로 고른 인덱스 확인\n",
    "    list1 = [0 for i in range(len(lst))] # 랜덤하게 원소를 저장할 리스트\n",
    "    \n",
    "    for i in range(len(lst)): # 리스트 크기만큼 반복\n",
    "        a = random.randrange(0, len(lst)) # 리스트의 인덱스를 랜덤하게 선택\n",
    "        if check[a] == 0:     # 아직 고르지 않은 인덱스라면 원소값을 저장함\n",
    "            list1[i] = lst[a]\n",
    "            check[a] += 1     # 선택된 인덱스로 설정\n",
    "            \n",
    "        else:                    # 이미 골랐던 원소라면 \n",
    "            while check[a] != 0: # 다시 랜덤하게 다른 인덱스 찾음\n",
    "                a = random.randrange(0, len(lst))\n",
    "            list1[i] = lst[a]    # 원소값 저장\n",
    "            check[a] += 1        # 선택된 인덱스로 설정\n",
    "    return list1 # 리스트 반환\n",
    "\n",
    "def main(): # 메인 메소드\n",
    "    s = input(\"정수 리스트를 입력하세요(,으로 구분) : \") # 숫자를 문자열로 입력받음\n",
    "    nlist = s.split(',') # 문자열을 ,로 나누어 리스트로 저장한다.\n",
    "    print(\"리스트\", nlist, \"의\\nshuffle 결과 : \",shuffle(nlist)) # 리스트의 shuffle결과를 출력\n",
    "    \n",
    "main() # 프로그램 실행"
   ]
  }
 ],
 "metadata": {
  "kernelspec": {
   "display_name": "Python 3",
   "language": "python",
   "name": "python3"
  },
  "language_info": {
   "codemirror_mode": {
    "name": "ipython",
    "version": 3
   },
   "file_extension": ".py",
   "mimetype": "text/x-python",
   "name": "python",
   "nbconvert_exporter": "python",
   "pygments_lexer": "ipython3",
   "version": "3.6.3"
  }
 },
 "nbformat": 4,
 "nbformat_minor": 2
}
