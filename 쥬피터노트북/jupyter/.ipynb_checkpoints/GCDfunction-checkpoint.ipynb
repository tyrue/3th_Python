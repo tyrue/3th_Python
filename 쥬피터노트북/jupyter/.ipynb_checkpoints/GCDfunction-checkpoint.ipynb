{
 "cells": [
  {
   "cell_type": "code",
   "execution_count": null,
   "metadata": {
    "collapsed": true
   },
   "outputs": [],
   "source": [
    "def gcd(n1, n2):\n",
    "    gcd = 1\n",
    "    k = 2\n",
    "    \n",
    "    while k <= n1 and k <= n2:\n",
    "        if n1 % k == 0 and n2 % k == 0:\n",
    "            gcd = k\n",
    "        k += 1\n",
    "    return gcd"
   ]
  }
 ],
 "metadata": {
  "kernelspec": {
   "display_name": "Python 3",
   "language": "python",
   "name": "python3"
  },
  "language_info": {
   "codemirror_mode": {
    "name": "ipython",
    "version": 3
   },
   "file_extension": ".py",
   "mimetype": "text/x-python",
   "name": "python",
   "nbconvert_exporter": "python",
   "pygments_lexer": "ipython3",
   "version": "3.6.1"
  }
 },
 "nbformat": 4,
 "nbformat_minor": 2
}
