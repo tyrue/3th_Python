{
 "cells": [
  {
   "cell_type": "markdown",
   "metadata": {},
   "source": [
    "# 문제 1번\n",
    "\n",
    "(숫자 빈도수 세기) 사용자가 입력하는 정수를 읽고 이 중에 가장 많이 나온\n",
    "\n",
    "숫자를 찾아 출력하는 프로그램을 작성하시오. 예를 들어, 2 3 40 5 4 -3 3 3 2 0 을 입력하면,\n",
    "\n",
    "숫자 3 이 가장 많이 나온 숫자이다. 사용자는 한 행에 모든 숫자들을 입력하며 입력하는\n",
    "\n",
    "정수의 개수에 제한은 없다. 가장 많이 나온 숫자의 개수가 여러 개일 경우, 이들 숫자\n",
    "\n",
    "모두를 찾아야 한다. 예를 들어, 9 30 3 9 3 2 4 를 입력했을 경우 9 와 3 이 두 번씩 가장\n",
    "\n",
    "많이 나온다. 이 경우, 9 와 3 을 모두 찾아 결과로 출력해야만 한다."
   ]
  },
  {
   "cell_type": "markdown",
   "metadata": {},
   "source": [
    "## 1.코드 설명\n",
    "\n",
    "main 함수에서 먼저 정수들을 공백으로 구분하여 입력받는다. 그리고 공백을 기준으로 split하여 리스트를 만들고,\n",
    "\n",
    "리스트의 원소들을 문자에서 정수로 바꾼다. 마지막으로 리스트를 오름차순으로 정렬한다.\n",
    "\n",
    "다음으로 빈도수가 가장 높은 정수를 저장할 리스트 max_list, 현재 가장 높은 빈도수 max_count, \n",
    "\n",
    "현재 가장 빈도수가 높은 숫자 current를 생성한다. 각각 [], 0, 0으로 초기화한다.\n",
    "\n",
    "for문에서 리스트의 원소 x를 순서대로 검사한다. 반복문에서 만약 x의 count가 max_count보다 높다면\n",
    "\n",
    "max_count를 x의 count로 저장하고, max_list를 초기화 하고, 리스트에 x를 추가한다. 그리고 current를 x로 설정한다.\n",
    "\n",
    "만약 max_count와 x의 count가 같고, current와 x가 다르다면, current를 x로 설정하고 max_list에 x를 추가한다.\n",
    "\n",
    "반복문을 나가면 max_list의 원소와 max_count를 출력한다. 마지막으로 main함수를 호출하여 프로그램을 실행한다."
   ]
  },
  {
   "cell_type": "markdown",
   "metadata": {},
   "source": [
    "## 2. 코드"
   ]
  },
  {
   "cell_type": "code",
   "execution_count": 5,
   "metadata": {},
   "outputs": [
    {
     "name": "stdout",
     "output_type": "stream",
     "text": [
      "정수들을 입력하세요(공백을 기준으로 구분합니다.) : 1 2 2 3 3\n",
      "가장 많이 나온 숫자는 [2, 3] 이고, 2 번씩 나옵니다.\n"
     ]
    }
   ],
   "source": [
    "def main():\n",
    "    n_string = input(\"정수들을 입력하세요(공백을 기준으로 구분합니다.) : \")\n",
    "    n_list = n_string.split(\" \") # 공백을 기준으로 나눠 리스트를 만든다.\n",
    "    n_list = [eval(x) for x in n_list] # 문자를 정수로 바꾼다.\n",
    "    n_list.sort() # 오름차순 정렬\n",
    "    \n",
    "    max_list = [] # 많이 나오는 숫자를 저장할 리스트\n",
    "    max_count = 0 # 가장 높은 카운트\n",
    "    current = 0   # 현재 가장 많이 나오는 숫자\n",
    "    \n",
    "    for x in n_list: # 리스트의 원소를 순회한다.\n",
    "        if max_count < n_list.count(x): # x의 빈도수가 max_count보다 높다면\n",
    "            max_count = n_list.count(x) # max_count는 x의 빈도수,\n",
    "            max_list = [] # 리스트를 초기화 하고 x를 넣는다.\n",
    "            max_list.append(x)\n",
    "            current = x # 현재 가장 많이 나오는 숫자는 x\n",
    "        \n",
    "        elif (max_count == n_list.count(x)) and (current != x): # x의 빈도수가 max_count와 같고, current와 다른 숫자일 때\n",
    "            current = x # 현재 숫자는 x\n",
    "            max_list.append(x) # 리스트에 x를 추가한다.\n",
    "    \n",
    "    print(\"가장 많이 나온 숫자는\", max_list,\"이고,\", max_count, \"번씩 나옵니다.\")\n",
    "main() # 프로그램 실행"
   ]
  },
  {
   "cell_type": "markdown",
   "metadata": {},
   "source": [
    "# 문제 2번\n",
    "\n",
    "(자음과 모음 수 세기) 사용자로부터 텍스트 파일명을 입력받고 이 파일\n",
    "\n",
    "내에 있는 영문자 자음과 모음의 수를 각각 출력하는 프로그램을 작성하시오. \n",
    "\n",
    "모음 A, E, I, O, U 를 저장하기 위해 세트를 사용하라."
   ]
  },
  {
   "cell_type": "markdown",
   "metadata": {},
   "source": [
    "## 1.코드 설명\n",
    "\n",
    "main함수에서 먼저 파일의 이름을 입력받고, 입력받은 이름의 파일을 읽기 모드로 연다. 만약 없는 파일이라면 다시 입력받도록 한다.\n",
    "\n",
    "다음으로 모음 세트 vo_set에 알파벳 모음{'a', 'e', 'i', 'o' , 'u', 'A', 'E', 'I', 'O', 'U'}을 저장한다. \n",
    "\n",
    "그리고 모음의 개수 vo, 자음의 개수 con을 0으로 초기화한다.\n",
    "\n",
    "for문에서 파일을 한 줄씩 읽어 나간다. 그리고 다음 for문에서 한 줄을 한 문자씩 읽어 나간다.\n",
    "\n",
    "만약 한 문자가 영문자이고, vo_set에 있다면, 이 문자는 모음이므로, vo를 1증가 시킨다.\n",
    "\n",
    "만약 영문자이면서 vo_set에 없다면, 이 문자는 자음이므로, con을 1증가 시킨다.\n",
    "\n",
    "for문을 빠져나가면 vo와 con을 출력하여 모음과 자음의 개수를 출력한다. \n",
    "\n",
    "마지막으로 main함수를 호출하여 프로그램을 실행한다."
   ]
  },
  {
   "cell_type": "markdown",
   "metadata": {},
   "source": [
    "## 2. 코드"
   ]
  },
  {
   "cell_type": "code",
   "execution_count": 26,
   "metadata": {},
   "outputs": [
    {
     "name": "stdout",
     "output_type": "stream",
     "text": [
      "open할 파일 이름을 입력하세요 : abc.txt\n",
      "파일을 읽기 모드로 열었습니다.\n",
      "파일에 존재하는 모음의 개수 :  4\n",
      "파일에 존재하는 자음의 개수 :  8\n"
     ]
    }
   ],
   "source": [
    "def main():\n",
    "    while(True): # 파일이 정상적으로 열릴 때 까지 반복함\n",
    "        try:\n",
    "            file_name = input(\"open할 파일 이름을 입력하세요 : \")\n",
    "            file_open = open(file_name, \"r\") # 파일을 읽기 모드로 연다\n",
    "            break # 파일이 열렸으면 반복문 탈출\n",
    "        except IOError: # 읽기 에러\n",
    "            print(\"파일\", file_name, \"이/가 존재하지 않습니다. 다시 시도하세요\")\n",
    "\n",
    "    print(\"파일을 읽기 모드로 열었습니다.\")\n",
    "    \n",
    "    vo_set = {'a', 'e', 'i', 'o' , 'u', 'A', 'E', 'I', 'O', 'U'} # 모음세트\n",
    "    vo, con = 0, 0 # 모음과 자음의 개수\n",
    "    \n",
    "    for line in file_open: # 파일을 한 줄씩 읽어 나간다.\n",
    "        for s in line: # 한 문자씩 읽어 나간다.\n",
    "            if 'A' <= s and s <= 'z': # s는 영문자여야 함\n",
    "                if s in vo_set: # 모음이라면 vo 1증가\n",
    "                    vo += 1\n",
    "                else: # 자음이라면 con 1증가\n",
    "                    con += 1\n",
    "    \n",
    "    print(\"파일에 존재하는 모음의 개수 : \", vo)\n",
    "    print(\"파일에 존재하는 자음의 개수 : \", con)\n",
    "main() # 프로그램 실행"
   ]
  },
  {
   "cell_type": "markdown",
   "metadata": {},
   "source": [
    "# 문제 3번\n",
    "\n",
    "Given an array nums, write a function to move all 0's to the end of \n",
    "\n",
    "it while maintaining the relative order of the non-zero elements.\n",
    "\n",
    "숫자 리스트가 주어졌을때, 0이 아닌 요소의 상대적인 순서를 유지하면서 \n",
    "\n",
    "0을 모두 끝으로 이동시키는 함수를 작성하십시오."
   ]
  },
  {
   "cell_type": "markdown",
   "metadata": {},
   "source": [
    "## 1.코드 설명\n",
    "\n",
    "moveZeroes함수는 숫자 리스트 nums을 인자로 받는다. \n",
    "\n",
    "먼저 함수안에서 nums의 크기를 size 변수에 저장한다. 그리고 nums의 0의 빈도수를 zero_count에 저장한다.\n",
    "\n",
    "다음으로 for문에서 nums에 0을 remove하고, 다시 0을 append하여 0을 리스트 맨 끝에 옮긴다. \n",
    "\n",
    "이를 zero_count 만큼 반복한다."
   ]
  },
  {
   "cell_type": "markdown",
   "metadata": {},
   "source": [
    "## 2. 사진"
   ]
  },
  {
   "cell_type": "markdown",
   "metadata": {
    "collapsed": true
   },
   "source": [
    "<img src = \"https://photos-2.dropbox.com/t/2/AABm2_39hl73AQwHwVAjFY-B_npu-p8rVcNw6EpdV6v6xw/12/713794538/png/32x32/1/_/1/2/%EB%AC%B8%EC%A0%9C%203%EB%B2%88.PNG/EMnonPEFGA8gBygH/iFmEBozk1DjJHxrSqZbD6ej4_twtvJFxYn765b_CEH4?preserve_transparency=1&size=1280x960&size_mode=3\">"
   ]
  },
  {
   "cell_type": "markdown",
   "metadata": {},
   "source": [
    "# 문제 4번\n",
    "\n",
    "Give a string, you can choose to split the string after one character or two adjacent characters, \n",
    "\n",
    "and make the string to be composed of only one character or two characters. Output all possible results.\n",
    "\n",
    "문자열이 주어졌을 때, 한 문자 또는 두 개의 인접 문자 다음에 문자열을 분할하고 한 문자 또는 \n",
    "\n",
    "두 문자로만 구성된 문자열을 만들 수 있는 가능한 모든 결과를 출력하십시오."
   ]
  },
  {
   "cell_type": "markdown",
   "metadata": {},
   "source": [
    "## 1.코드 설명\n",
    "\n",
    "1) split_Helper 함수는 결과를 저장할 리스트 s_list, 현재 결과 result, 리스트 인덱스 index, 전체 문자열 s를 \n",
    "\n",
    "인자로 받는다. 함수안에서 먼저 index가 s의 크기, 즉, 인덱스가 끝이면 임시 리스트 temp에 result를 복사하고, \n",
    "\n",
    "s_list에 temp를 추가하고 함수를 종료한다.\n",
    "\n",
    "다음으로 for문에서 i를 index에서 index + 1이 될 때 까지 반복한다. \n",
    "\n",
    "반복문안에서 먼저 i가 len(s) 이상이면, 즉, 인덱스가 끝이되면 break하여 반복문을 종료한다. \n",
    "\n",
    "다음으로 부분 문자열 substring에 s[index : i + 1]을 저장한다. 이러면 substring은 1개 또는 최대 2개의 문자를 갖는다.\n",
    "\n",
    "다음으로 result에 substring을 저장한다. 그 다음 split_Helper를 다시 호출하는데, index에 i + 1을 넘겨줌으로서 다음 인덱스로 넘어간다.\n",
    "\n",
    "만약 재귀 함수의 호출이 다 끝나면 result에는 전체 문자열 s의 끝까지 들어있을 것이므로, pop을 하여 맨 끝을 비워준다.\n",
    "\n",
    "\n",
    "<br>\n",
    "2) splitString 함수는 전체 문자열 s를 인자로 받는다. \n",
    "\n",
    "함수안에서 먼저 빈 리스트 s_list를 생성한다. 다음으로 만약 s가 빈 문자열(\"\") 또는 len(s)가 0이면, s_list에 []을 추가하고 \n",
    "\n",
    "s_list를 반환한다. 다음으로 split_Helper에 s_list, [], 0, s를 넘겨주고 함수를 호출한다.\n",
    "\n",
    "그리고 마지막으로 s_list를 반환한다."
   ]
  },
  {
   "cell_type": "markdown",
   "metadata": {},
   "source": [
    "## 2. 사진"
   ]
  },
  {
   "cell_type": "markdown",
   "metadata": {},
   "source": [
    "<img src = \"https://photos-5.dropbox.com/t/2/AAB4fIuhI2DjE1HgsE5n0lv81FvMY60ZM_BjBg_j58m6OQ/12/713794538/png/32x32/1/_/1/2/%EB%AC%B8%EC%A0%9C4%EB%B2%88.PNG/EMnonPEFGA0gBygH/BK8pgwdpLjDwSpcL4UTNbt2Zb1r-trA3ai57KVVZQa4?preserve_transparency=1&size=1280x960&size_mode=3\">"
   ]
  }
 ],
 "metadata": {
  "kernelspec": {
   "display_name": "Python 3",
   "language": "python",
   "name": "python3"
  },
  "language_info": {
   "codemirror_mode": {
    "name": "ipython",
    "version": 3
   },
   "file_extension": ".py",
   "mimetype": "text/x-python",
   "name": "python",
   "nbconvert_exporter": "python",
   "pygments_lexer": "ipython3",
   "version": "3.6.3"
  }
 },
 "nbformat": 4,
 "nbformat_minor": 2
}
