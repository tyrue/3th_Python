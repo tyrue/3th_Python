{
 "cells": [
  {
   "cell_type": "markdown",
   "metadata": {},
   "source": [
    "# 문제 1번\n",
    "\n",
    "(게임: 덧셈 학습하기) 100 이하의 2 개 정수를 생성하고 이들\n",
    "정수의 합을 사용자가 맞추도록 하는 프로그램을 작성하시오. 사용자의 입력\n",
    "값이 맞는지 혹은 틀린지를 출력해야 한다. 이 프로그램은 AdditionQuiz.py\n",
    "와 유사하다."
   ]
  },
  {
   "cell_type": "markdown",
   "metadata": {},
   "source": [
    "## 1.코드 설명\n",
    "\n",
    "랜덤 함수 randint를 사용하기 위해 먼저 random을 import한다.\n",
    "\n",
    "정수 a와 b는 0~100사이의 임의의 값을 받는다. 이를 randint(0, 100)으로 구현한다.\n",
    "정수 sum은 a와 b를 더한 값을 받는다.\n",
    "\n",
    "다음으로 a와 b를 더한 값이 무엇인지 문제를 출력하고,\n",
    "사용자는 답을 입력한다. 답은 변수 answer에 저장된다.\n",
    "\n",
    "만약 답을 맞추면(sum == answer) 정답을 출력하고, 맞추지 못했다면 while문 안에서 답을 맞출 때 까지 계속 반복된다."
   ]
  },
  {
   "cell_type": "markdown",
   "metadata": {},
   "source": [
    "## 2. 코드"
   ]
  },
  {
   "cell_type": "code",
   "execution_count": 6,
   "metadata": {},
   "outputs": [
    {
     "name": "stdout",
     "output_type": "stream",
     "text": [
      "63 + 50 는 무엇입니까?\n",
      "답을 맞춰 보세요 : 113\n",
      "맞았습니다. 답은  113 입니다\n"
     ]
    }
   ],
   "source": [
    "import random\n",
    "a = random.randint(0, 100) # 0에서 100까지의 랜덤한 수 설정\n",
    "b = random.randint(0, 100)\n",
    "sum = a + b                # 랜덤한 두 수를 더한 값\n",
    "\n",
    "print(a, \"+\", b, \"는 무엇입니까?\")          # 문제를 출력한다.\n",
    "answer = eval(input(\"답을 맞춰 보세요 : \")) # 사용자가 답을 입력한다.\n",
    "\n",
    "# 답을 한번에 맞추면 바로 정답을 출력한다.\n",
    "if(sum == answer):\n",
    "    print(\"맞았습니다. 답은 \", sum, \"입니다\")\n",
    "\n",
    "# 만약 답을 틀리면 맞을 때 까지 while문에서 문제를 푼다.\n",
    "while sum != answer:  \n",
    "    answer = eval(input(\"틀렸습니다. 다시 풀어보세요 : \"))  # 틀리면 답을 다시 입력한다.\n",
    "    if sum == answer:\n",
    "        print(\"맞았습니다. 답은 \", sum, \"입니다\")           # 답을 맞추면 정답을 출력하고 반복문을 탈출한다."
   ]
  },
  {
   "cell_type": "markdown",
   "metadata": {},
   "source": [
    "# 문제 2번\n",
    "(미래의 요일 맞추기) 사용자가 오늘의 요일을 정수로 입력하는 프로그램을 작성하시오(예를 들어, 일요일은 0, 월요일은 1, …, 토요일은 6).\n",
    "또한 사용자로부터 오늘부터 경과한 일수를 입력하면 미래의 요일을 출력합니다. "
   ]
  },
  {
   "cell_type": "markdown",
   "metadata": {},
   "source": [
    "## 1. 코드 설명\n",
    "\n",
    "먼저 오늘의 요일을 숫자로 입력받아서 today에 저장한다. 숫자는 0~6사이의 정수를 입력받는다.\n",
    "\n",
    "그리고 오늘부터 경과한 일수 future를 입력받는데, 이는 today + 경과한 일수로 표현한다.\n",
    "\n",
    "future를 future에 7로 나눈 나머지 값을 저장하여 요일을 정한다.\n",
    "\n",
    "today와 future값에 맞는 요일을 문자열로 표현한다."
   ]
  },
  {
   "cell_type": "markdown",
   "metadata": {},
   "source": [
    "## 2. 코드"
   ]
  },
  {
   "cell_type": "code",
   "execution_count": 3,
   "metadata": {},
   "outputs": [
    {
     "name": "stdout",
     "output_type": "stream",
     "text": [
      "오늘의 요일을 입력하세요 : 0\n",
      "오늘부터 경과한 일수를 입력하세요 : 31\n",
      "오늘은  일요일 이고, 미래의 요일은 수요일 입니다.\n"
     ]
    }
   ],
   "source": [
    "today = eval(input(\"오늘의 요일을 입력하세요 : \"))           # 오늘의 요일\n",
    "future = today + eval(input(\"오늘부터 경과한 일수를 입력하세요 : \")) # 오늘부터 경과한 일수, 미래\n",
    "\n",
    "future %= 7 # 경과한 일수를 일주일 단위로 나누고 나머지 만큼 요일이 이동한다.\n",
    "\n",
    "# 숫자로 표현한 오늘의 요일을 문자열로 표현한다. \n",
    "if today == 0:\n",
    "    today = \"일요일\"\n",
    "elif today == 1:\n",
    "    today = \"월요일\"\n",
    "elif today == 2:\n",
    "    today = \"화요일\"\n",
    "elif today == 3:\n",
    "    today = \"수요일\"\n",
    "elif today == 4:\n",
    "    today = \"목요일\"\n",
    "elif today == 5:\n",
    "    today = \"금요일\"\n",
    "elif today == 6:\n",
    "    today = \"토요일\"\n",
    "\n",
    "# 숫자로 표현한 미래의 요일을 문자열로 표현한다.\n",
    "if future == 0:\n",
    "    future = \"일요일\"\n",
    "elif future == 1:\n",
    "    future = \"월요일\"\n",
    "elif future == 2:\n",
    "    future = \"화요일\"\n",
    "elif future == 3:\n",
    "    future = \"수요일\"\n",
    "elif future == 4:\n",
    "    future = \"목요일\"\n",
    "elif future == 5:\n",
    "    future = \"금요일\"\n",
    "elif future == 6:\n",
    "    future = \"토요일\" \n",
    "\n",
    "print(\"오늘은\", today, \"이고, 미래의 요일은\", future, \"입니다.\") # 오늘과 미래의 요일을 출력한다."
   ]
  },
  {
   "cell_type": "markdown",
   "metadata": {},
   "source": [
    "# 문제 3번\n",
    "\n",
    "(숫자 검사하기) 사용자로부터 하나의 정수를 입력받고, 그 정수가 5 와 6 모두 나누어지는지, 5 또는 6 으로 나누어지는지, \n",
    "\n",
    "혹은 두 정수 모두로는 나누어지지 않지만 둘 중에 하나로만 나누어지는지를 검사하는 프로그램을 작성하시오."
   ]
  },
  {
   "cell_type": "markdown",
   "metadata": {},
   "source": [
    "## 1. 코드 설명\n",
    "\n",
    "num에 정수를 입력받는다.\n",
    "\n",
    "num이 5와 6모두 나누어지는지 (num % 5 == 0) and (num % 6 == 0) 로 비교한다.\n",
    "\n",
    "다음으로 num이 5또는 6으로 나누어지는지 (num % 5 == 0) or (num % 6 == 0)로 비교한다.\n",
    "\n",
    "마지막으로 num이 5또는 6으로 나누어지지만, 둘 모두로 나누어지지 않는지 검사하기 위해서 \n",
    "\n",
    "(num % 5 == 0) or (num % 6 == 0)) and not((num % 5 == 0) and (num % 6 == 0)로 비교한다."
   ]
  },
  {
   "cell_type": "markdown",
   "metadata": {},
   "source": [
    "## 2. 코드"
   ]
  },
  {
   "cell_type": "code",
   "execution_count": 14,
   "metadata": {},
   "outputs": [
    {
     "name": "stdout",
     "output_type": "stream",
     "text": [
      "하나의 정수를 입력하세요 : 30\n",
      "30 은/는 5 와 6 으로 나누어집니까? \n",
      "True\n",
      "30 은/는 5 혹은 6 으로 나누어집니까? \n",
      "True\n",
      "30 은/는 5 혹은 6 으로 나누어지지만, 둘 모두로는 나누어지지 않습니까? \n",
      "False\n"
     ]
    }
   ],
   "source": [
    "num = eval(input(\"하나의 정수를 입력하세요 : \")) # 정수를 입력받는다.\n",
    "\n",
    "# 5와 6 모두 나누어지는지 검사, and를 이용한다.\n",
    "print (num, \"은/는 5 와 6 으로 나누어집니까? \") \n",
    "if (num % 5 == 0) and (num % 6 == 0):           \n",
    "    print (\"True\")\n",
    "else:\n",
    "    print (\"False\")\n",
    "\n",
    "# 5또는 6으로 나누어지는지 검사, or를 이용한다.\n",
    "print (num, \"은/는 5 혹은 6 으로 나누어집니까? \")\n",
    "if (num % 5 == 0) or (num % 6 == 0): \n",
    "    print (\"True\")\n",
    "else:\n",
    "    print (\"False\")\n",
    "\n",
    "# 5또는 6으로 나누어지지만, 둘 모두로 나누어지지 않는지 검사, and와 or와 not을 이용한다.\n",
    "print (num, \"은/는 5 혹은 6 으로 나누어지지만, 둘 모두로는 나누어지지 않습니까? \")\n",
    "if ((num % 5 == 0) or (num % 6 == 0)) and not((num % 5 == 0) and (num % 6 == 0)):\n",
    "    print (\"True\")\n",
    "else:\n",
    "    print (\"False\")"
   ]
  },
  {
   "cell_type": "markdown",
   "metadata": {},
   "source": [
    "# 문제 4번\n",
    "\n",
    "(대칭수) 사용자로부터 세 자리 정수를 입력받고 그 숫자가 대칭수(palindrome number)인지를 판별하는 프로그램을 작성하시오. \n",
    "\n",
    "어떤 숫자를 오른쪽에서 왼쪽으로 읽으나 왼쪽에서 오른쪽으로 읽으나 서로 같다면, 그 숫자는 대칭수이다."
   ]
  },
  {
   "cell_type": "markdown",
   "metadata": {},
   "source": [
    "## 1. 코드 설명\n",
    "\n",
    "[::-1]은 문자열을 뒤짚는 연산자이다.\n",
    "\n",
    "원래는 정수를 입력받아야 하지만, [::-1]를 사용하여 편하게 하기 위해서 문자열을 입력받는다.\n",
    "\n",
    "즉, num에 세자리 문자열을 입력받는다.\n",
    "\n",
    "만약 num == num[::-1] 이라면 대칭수이고 아니면 대칭수가 아니다."
   ]
  },
  {
   "cell_type": "markdown",
   "metadata": {},
   "source": [
    "## 2. 코드"
   ]
  },
  {
   "cell_type": "code",
   "execution_count": 32,
   "metadata": {
    "scrolled": true
   },
   "outputs": [
    {
     "name": "stdout",
     "output_type": "stream",
     "text": [
      "세 자리 정수를 입력하세요 : 154\n",
      "154 은/는 대칭수가 아닙니다.\n"
     ]
    }
   ],
   "source": [
    "# [::-1]은 문자열을 뒤집는다.\n",
    "# [::-1]을 사용하기 위해서 숫자가 아닌 문자열로 입력 받는다.\n",
    "num = input(\"세 자리 정수를 입력하세요 : \") \n",
    "\n",
    "# 원래 문자열과 뒤집은 문자열이 같으면 대칭수이고 아니면 대칭수가 아니다.\n",
    "if num == num[::-1]:                   \n",
    "    print(num, \"은/는 대칭수 입니다.\")\n",
    "else:\n",
    "    print(num, \"은/는 대칭수가 아닙니다.\")"
   ]
  },
  {
   "cell_type": "markdown",
   "metadata": {},
   "source": [
    "# 문제 5번\n",
    "\n",
    "(16 진수를 10 진수로 변환) 사용자로부터 16 진수 문자를 입력받고, \n",
    "\n",
    "입력 문자에 해당하는 10 진수 정수를 출력하는 프로그램을 작성하시오."
   ]
  },
  {
   "cell_type": "markdown",
   "metadata": {},
   "source": [
    "## 1. 코드 설명\n",
    "\n",
    "num에 16진수 문자를 입력받는다.\n",
    "\n",
    "대문자와 소문자 상관 없이 16진수 문자를 십진수 값으로 바꿔야한다.\n",
    "\n",
    "따라서 or 연산자를 이용해서 num == 대문자 or num == 소문자 일 때 십진수 값으로 바꾼다.\n",
    "\n",
    "num이 숫자 문자면 숫자로 바꾸고, A~F, a~f라면 해당하는 십진수 값으로 바꾼다."
   ]
  },
  {
   "cell_type": "markdown",
   "metadata": {},
   "source": [
    "## 2. 코드"
   ]
  },
  {
   "cell_type": "code",
   "execution_count": 3,
   "metadata": {},
   "outputs": [
    {
     "name": "stdout",
     "output_type": "stream",
     "text": [
      "16진수 문자를 입력하세요:f\n",
      "10진수 값은  15 입니다.\n"
     ]
    }
   ],
   "source": [
    "num = input(\"16진수 문자를 입력하세요:\") # input함수를 이용해 문자를 입력받는다.\n",
    "\n",
    "# num이 A~F, a~f라면 해당하는 십진수 값으로 바꿔준다.\n",
    "if num == 'A' or num == 'a':\n",
    "    num = 10\n",
    "    print (\"10진수 값은 \", num, \"입니다.\")\n",
    "elif num == 'B' or num == 'b':\n",
    "    num = 11\n",
    "    print (\"10진수 값은 \", num, \"입니다.\")\n",
    "elif num == 'C' or num == 'c':\n",
    "    num = 12\n",
    "    print (\"10진수 값은 \", num, \"입니다.\")\n",
    "elif num == 'D' or num == 'd':\n",
    "    num = 13\n",
    "    print (\"10진수 값은 \", num, \"입니다.\")\n",
    "elif num == 'E' or num == 'e':\n",
    "    num = 14\n",
    "    print (\"10진수 값은 \", num, \"입니다.\")\n",
    "elif num == 'F' or num == 'f':\n",
    "    num = 15\n",
    "    print (\"10진수 값은 \", num, \"입니다.\")\n",
    "\n",
    "# num이 숫자 문자라면, 숫자로 바꿔준다.\n",
    "elif num == '0' or num == '1' or num == '2' or num == '3' or num == '4' or num == '5' or num == '6' or num == '7' or num == '8' or num == '9': \n",
    "    num = eval(num)\n",
    "    print (\"10진수 값은 \", num, \"입니다.\")\n",
    "else: # num이 이도저도 아니면 잘못된 입력이라고 사용자에게 알려준다.\n",
    "    print(\"잘못된 입력입니다.\")"
   ]
  },
  {
   "cell_type": "code",
   "execution_count": null,
   "metadata": {
    "collapsed": true
   },
   "outputs": [],
   "source": []
  }
 ],
 "metadata": {
  "kernelspec": {
   "display_name": "Python 3",
   "language": "python",
   "name": "python3"
  },
  "language_info": {
   "codemirror_mode": {
    "name": "ipython",
    "version": 3
   },
   "file_extension": ".py",
   "mimetype": "text/x-python",
   "name": "python",
   "nbconvert_exporter": "python",
   "pygments_lexer": "ipython3",
   "version": "3.6.1"
  }
 },
 "nbformat": 4,
 "nbformat_minor": 2
}
