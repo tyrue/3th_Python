{
 "cells": [
  {
   "cell_type": "markdown",
   "metadata": {},
   "source": [
    "# 문제 1번\n",
    "\n",
    "(Fan 클래스 ) 팬을 표현하는 Fan 클래스를 클래스를 설계하시오 . Fan 클 래스는 다음을 포함한다 .\n",
    "\n",
    " 팬의 속도를 나타내는 각각의 값이 1,2,3 인 세 상수 SLOW, MEDIUM 과 FAST\n",
    "\n",
    " 팬의 속도를 명시하는 private int 데이터 필드 speed\n",
    "\n",
    " 팬의 전원이 켜져 있는지 나타내는 private bool 데이터 필드 on (기본 값 False )\n",
    "\n",
    " 팬의 반지름 (크기 )을 나타내는 private float float 데이터 필드 radius\n",
    "\n",
    " 팬의 색상을 나타내는 private string 데이터 필드 color\n",
    "\n",
    " 모든 데이터 필드에 대한 접근자와 변경자\n",
    "\n",
    " 특정 속도 (기본값 SLOW ), 반지름 (기본값 5), 색상 (기본값 blue ), 그리고 전원 (기본값 False )에 대한 선풍기를 생성하는 생성자\n",
    "\n",
    "Fan 클래스에 대한 UML 다이어그램을 작성한 후 클래스를 구현하시오 . 두 개의 Fan 객체를 생성하는 테스트 프로그램을 작성하시오 . \n",
    "\n",
    "첫 번째 객체에 대해 최대 속도 , 크기 10 , 색상 노란색 그리고 전원 켜짐을 할당하시오 . 두 번째 객체에 대해 중간 속도 , 크기 5, \n",
    "\n",
    "색상 파란색 그리고 전원은 꺼짐을 할 당하시오 . 각 객체의 속도 , 반지름 , 색상 및 전원 속성을 출력하시오 ."
   ]
  },
  {
   "cell_type": "markdown",
   "metadata": {},
   "source": [
    "## 1.코드 설명\n",
    "\n",
    "1) Fan 클래스는 속도, 반지름, 색상, 전원 상태를 데이터 필드로 갖는다. 그리고 각 데이터 필드는 private이다.\n",
    "\n",
    "속도는 상수이므로, SLOW = 1, MEDIUM = 2, FAST = 3으로 나타낸다.\n",
    "\n",
    "생성자에서 속도는 1(SLOW), 반지름은 5.0, 색상은 \"blue\", 전원은 False로 기본값을 가지고, 사용자로부터 입력받은 인자로 각 데이터 변수를 초기화한다.\n",
    "\n",
    "그리고 각 데이터 변수는 접근자(get), 설정자(set)메소드를 가진다.\n",
    "\n",
    "특별히 속도 접근자에서 값을 반환할 때, 숫자를 반환 하는 것 대신, 명확하게 보여주기 위해서 \"SLOW\", \"MEDIUM\", \"FAST\" 문자열을 반환한다.\n",
    "\n",
    "2) 메인 메소드에서는 속도가 최대이고, 전원이 켜져있고, 반지름 크기가 10.0, 색깔이 노란색인 팬, \n",
    "\n",
    "속도가 중간이고, 전원이 꺼져있고, 반지름 크기가 5.0, 색깔이 파란색인 팬 객체를 생성하고, 각 객체의 속도, 반지름, 색상, 전원상태를 표시한다.\n",
    "\n",
    "마지막으로 메인 메소드를 호출하여 프로그램을 실행한다."
   ]
  },
  {
   "cell_type": "markdown",
   "metadata": {},
   "source": [
    "## 2. UML 다이어그램\n",
    "\n",
    "<img src=\"https://photos-2.dropbox.com/t/2/AAAXqzT2GFMrxHB33uTX7TDPFvp1us0XG8-bbBKkfaeKAA/12/713794538/png/32x32/1/_/1/2/UML1.png/EMnonPEFGAYgBygH/vlsH5VLAM8SNCEPo7QJ8WhUOzs4boSObVAN3oSm1E0w?size=1280x960&size_mode=3\">"
   ]
  },
  {
   "cell_type": "markdown",
   "metadata": {},
   "source": [
    "## 3. 코드"
   ]
  },
  {
   "cell_type": "code",
   "execution_count": 9,
   "metadata": {},
   "outputs": [
    {
     "name": "stdout",
     "output_type": "stream",
     "text": [
      "객체 f1의 속도 : FAST , 반지름 : 10.0 , 색상 : yellow , 전원 : True\n",
      "객체 f2의 속도 : MEDIUM , 반지름 : 5.0 , 색상 : blue , 전원 : False\n"
     ]
    }
   ],
   "source": [
    "class Fan:   # 팬 클래스\n",
    "    # 속도, 전원 상태, 반지름, 색상을 인자로 받아 초기화하는 생성자\n",
    "    # 기본값으로 속도는 SLOW, 전원은 False, 반지름은 5.0, 색깔은 blue를 갖는다.\n",
    "    def __init__(self, speed = 1, on = False, radius = 5.0, color = \"blue\"): \n",
    "        # 각 데이터변수는 private이므로, 이름 앞에 __(밑줄 두개)를 쓴다.\n",
    "        # 팬의 속도를 나타내는 상수\n",
    "        self.__SLOW = 1 \n",
    "        self.__MEDIUM = 2\n",
    "        self.__FAST = 3\n",
    "\n",
    "        self.__speed = speed   # 속도\n",
    "        self.__on = on         # 전원\n",
    "        self.__radius = radius # 반지름\n",
    "        self.__color = color   # 색상\n",
    "        \n",
    "    # 각 데이터 변수의 설정자\n",
    "    def setSpeed(self, speed):\n",
    "        self.__speed = speed\n",
    "    def setOn(self, on):\n",
    "        self.__on = on\n",
    "    def setRadius(self, radius):\n",
    "        self.__radius = radius\n",
    "    def setColor(self, color):\n",
    "        self.__color = color\n",
    "    \n",
    "    # 각 데이터 변수의 접근자\n",
    "    def getSpeed(self):\n",
    "        # 각 속도를 숫자보다 문자열로 표시하도록 했다.\n",
    "        if self.__speed == self.__SLOW:\n",
    "            return \"SLOW\"\n",
    "        elif self.__speed == self.__MEDIUM:\n",
    "            return \"MEDIUM\"\n",
    "        elif self.__speed == self.__FAST:\n",
    "            return \"FAST\"\n",
    "    def getOn(self):\n",
    "        return self.__on\n",
    "    def getRadius(self):\n",
    "        return self.__radius\n",
    "    def getColor(self):\n",
    "        return self.__color\n",
    "\n",
    "def main(): # 메인 메소드, 팬 객체 2개를 생성하고 각 객체의 데이터를 표시한다.\n",
    "    f1 = Fan(3, True, 10.0, \"yellow\") # 속도가 최대이고, 전원이 켜져있고, 반지름 크기가 10.0, 색깔이 노란색인 팬\n",
    "    f2 = Fan(2) # 속도가 중간이고, 전원이 꺼져있고, 반지름 크기가 5.0, 색깔이 파란색인 팬\n",
    "    # 각 객체의 속도, 반지름, 색상, 전원상태를 표시한다.\n",
    "    print(\"객체 f1의 속도 :\", f1.getSpeed(), \", 반지름 :\", f1.getRadius(), \", 색상 :\", f1.getColor(), \", 전원 :\", f1.getOn())\n",
    "    print(\"객체 f2의 속도 :\", f2.getSpeed(), \", 반지름 :\", f2.getRadius(), \", 색상 :\", f2.getColor(), \", 전원 :\", f2.getOn())\n",
    "    \n",
    "main() # 메인 메소드 호출"
   ]
  },
  {
   "cell_type": "markdown",
   "metadata": {},
   "source": [
    "# 문제 2번\n",
    "\n",
    "(스톱워치 ) StopWatch 클래스를 설계하시오 . 클래스는 다음을 포함한다 .\n",
    "\n",
    " Private 데이터 필드 startTime 과 endTime 및 get 메소드\n",
    "\n",
    " 현재시간으로 startTime 을 초기화하는 생성자\n",
    "\n",
    " 현재시간으로 startTime 을 재설정하는 start() 메소드\n",
    "\n",
    " 현재시간을 endTime 으로 설정하는 stop() 메소드\n",
    "\n",
    " 스톱워치의 경과시간을 밀리초 단위로 반환하는 getElapsedTime() 메소드\n",
    "\n",
    "StopWatch 클래스의 UML 다이어그램을 작성한 후 클래스를 구현하시오 . \n",
    "\n",
    "1부터 1,000,000까지 숫자를 더하는 데 소요되는 소요되는 실행 시간을 측정하는 테스트 프로그램을 작성하시오 ."
   ]
  },
  {
   "cell_type": "markdown",
   "metadata": {},
   "source": [
    "## 1.코드 설명\n",
    "\n",
    "먼저 함수 time()을 사용하기 위해, time 모듈을 import한다.\n",
    "\n",
    "1) StopWatch 클래스는 시작시간, 종료시간 데이터 변수를 갖는다. 그리고 각 데이터 변수는 private이다.\n",
    "\n",
    "생성자에서 시작시간과 종료시간을 초단위의 현재시간으로 초기화한다. 그리고 각 데이터 변수는 접근자(get)만 가진다.\n",
    "\n",
    "start메소드는 시작시간을, stop메소드는 종료시간을 초단위의 현재시간으로 재설정한다.\n",
    "\n",
    "getElapsedTime메소드는 (종료시간 - 시작시간)의 값으로 경과시간을 계산하는데, 밀리초 단위로 반환해야 하므로, \n",
    "\n",
    "(종료시간 - 시작시간)에 1000을 곱한 값을 반환한다.\n",
    "\n",
    "2) 메인 메소드에서는 먼저 StopWatch객체 하나를 생성한다. 그리고, 0부터 1,000,000까지 더할 변수 s를 0으로 초기화 한 다음,\n",
    "\n",
    "반복문을 실행하기 전에 객체 메소드 start()를 호출 하여 시작 시간을 현재 시간으로 재설정한다.\n",
    "\n",
    "for문에서 0부터 1,000,000까지 s를 차례대로 더한 후, 반복문을 빠져나가면 객체 메소드 stop()을 호출하여 종료 시간을 현재 시간으로 재설정한다.\n",
    "\n",
    "마지막으로 getElapsedTime메소드를 호출하여 반복문이 걸린 시간을 출력한다.\n",
    "\n",
    "main 메소드를 호출하여 프로그램을 실행한다."
   ]
  },
  {
   "cell_type": "markdown",
   "metadata": {},
   "source": [
    "## 2. UML 다이어그램\n",
    "\n",
    "<img src=\"https://photos-5.dropbox.com/t/2/AABthCKK3xgl1qm1a4uaEYr7IZVb4Pv5QEPuxvAfZqO-8w/12/713794538/png/32x32/1/_/1/2/UML2.png/EMnonPEFGAYgBygH/GNyPXl67SFZS8kjmi0cmIGCbkHuRT2cFl40WN4604Nc?size=1280x960&size_mode=3\">"
   ]
  },
  {
   "cell_type": "markdown",
   "metadata": {},
   "source": [
    "## 3. 코드"
   ]
  },
  {
   "cell_type": "code",
   "execution_count": 11,
   "metadata": {},
   "outputs": [
    {
     "name": "stdout",
     "output_type": "stream",
     "text": [
      "1부터 1,000,000까지 더하는데 걸린 시간: 61 ms\n"
     ]
    }
   ],
   "source": [
    "import time # 시간 함수를 사용하기 위해 임포트 한다.\n",
    "\n",
    "class StopWatch: # 스톱워치 클래스\n",
    "    def __init__(self): # 생성자, 시작 시간과 종료시간을 현재 시간으로 초기화한다.\n",
    "        # 각 데이터 변수는 private이다.\n",
    "        self.__startTime = time.time()\n",
    "        self.__endTime = time.time()\n",
    "    \n",
    "    # 각 데이터 변수의 접근자\n",
    "    def getStartTime(self):\n",
    "        return self.__startTime\n",
    "    def getEndTime(self):\n",
    "        return self.__endTime\n",
    "    \n",
    "    def start(self): # 시작 메소드, 시작 시간을 현재시간으로 재설정한다.\n",
    "        self.__startTime = time.time()\n",
    "    def stop(self): # 중지 메소드, 종료시간을 현재시간으로 재설정한다.\n",
    "        self.__endTime = time.time()\n",
    "    def getElapsedTime(self): # 경과시간 메소드, 종료시간과 시작시간의 차를 밀리초 단위로 반환한다.\n",
    "        return int((self.__endTime - self.__startTime) * 1000) # 시작, 종료시간은 초 단위이므로, 1000을 곱하여 밀리초 단위로 바꾼다.\n",
    "    \n",
    "def main(): # 메인 메소드, 0부터 1,000,000까지 더하는 과정의 걸린 시간을 출력한다.\n",
    "    watch = StopWatch() # 스톱워치 객체 생성\n",
    "    \n",
    "    s = 0 # 0부터 1,000,000까지 더할 변수\n",
    "    watch.start() # 스톱워치 시작\n",
    "    for i in range(1000001): # 0부터 1,000,000까지 반복함\n",
    "        s += i \n",
    "    watch.stop() # 스톱워치 종료\n",
    "    \n",
    "    print(\"1부터 1,000,000까지 더하는데 걸린 시간:\", watch.getElapsedTime(),\"ms\") # 걸린 시간을 밀리초 단위로 출력한다.\n",
    "\n",
    "main() # 메인 메소드 호출"
   ]
  },
  {
   "cell_type": "markdown",
   "metadata": {},
   "source": [
    "# 문제 3번\n",
    "\n",
    "(Time 클래스 ) Time 라는 이름의 클래스를 설계하시오 . 클래스는 다음을 포함한다 .\n",
    "\n",
    " 시간을 표현하는 hour, minute 및 second private 데이터 필드\n",
    "\n",
    " 현재 시간을 시간을 사용하여 hour, minute hour, minute 및 second 를 초기화하는 Time 객체를 생성하는 생성자\n",
    "\n",
    " 각각의 hour, minute 및 second 데이터 필드에 대한 get 메소드\n",
    "\n",
    " 초 단위의 소요 시간을 사용하여 객체의 새로운 시간을 설정하는 setTime(elapseTime) 메소드 , 예를 들어 소요 시간 555550 초는 10 시간 , 19 분 10초이다 .\n",
    "\n",
    "Time 클래스에 대한 UML 다이어그램을 작성한 후 클래스를 구현하시오 . Time 객체를 생성하는 생성하는 테스트 프로그램을 프로그램을 작성하고 시, 분, 초를 출력하시오 .\n",
    "\n",
    "프로그램은 사용자로부터 소요 시간을 입력 받고 Time 객체에 입력 받은 소요 시 간을 설정하고 시, 분, 초를 출력한다 ."
   ]
  },
  {
   "cell_type": "markdown",
   "metadata": {},
   "source": [
    "## 1.코드 설명\n",
    "\n",
    "먼저 time()을 사용하기 위해 time모듈을 import한다.\n",
    "\n",
    "1) Time클래스는 데이터 변수로 시간, 분, 초를 갖는다. 그리고 각 데이터 변수는 private이고 접근자를 갖는다.\n",
    "\n",
    "생성자에서 먼저 임시 변수 totalSeconds에 1970년 1월 1일부터 현재 까지 걸린 시간을 초로 받는다. \n",
    "\n",
    "초는 totalSeconds % 60으로 초기화 하고,  totalSeconds을 60으로 나눈 정수 값으로 분 단위로 변환한다.\n",
    "\n",
    "분은 totalSeconds % 60으로 초기화 하고,  totalSeconds을 60으로 나눈 정수 값으로 시 단위로 변환한다.\n",
    "\n",
    "시는 totalSeconds % 24으로 초기화 한다.\n",
    "\n",
    "setTime메소드는 사용자로부터 소요시간 elapseTime을 인자로 받아, 생성자에서 같은 방법으로 \n",
    "\n",
    "차례대로 초, 분, 시를 elapseTime의 초, 분, 시로 재설정한다.\n",
    "\n",
    "2) 메인 메소드에서 먼저 Time객체를 생성하고, 객체의 접근자를 사용하여 현재 시간을 출력한다.\n",
    "\n",
    "다음으로 사용자로부터 elapseTime을 입력받고, 객체의 setTime(elapseTime)를 호출하여 소요 시간으로 재설정한다.\n",
    "\n",
    "마지막으로 객체의 접근자를 사용하여 소요 시간을 출력한다.\n",
    "\n",
    "메인 메소드를 호출하여 프로그램을 실행한다."
   ]
  },
  {
   "cell_type": "markdown",
   "metadata": {},
   "source": [
    "## 2. UML 다이어그램\n",
    "\n",
    "<img src=\"https://photos-4.dropbox.com/t/2/AABDrjBl6ox49AS7zYkyho3BdvIUaUiKhyKAm4aK6VoyxQ/12/713794538/png/32x32/1/_/1/2/UML3.png/EMnonPEFGAYgBygH/qqXlFd3BvMHa8nxz0uMxCCa3tOXGffdV_BUE9gIZ0lM?size=1280x960&size_mode=3\">"
   ]
  },
  {
   "cell_type": "markdown",
   "metadata": {},
   "source": [
    "## 3. 코드"
   ]
  },
  {
   "cell_type": "code",
   "execution_count": 13,
   "metadata": {},
   "outputs": [
    {
     "name": "stdout",
     "output_type": "stream",
     "text": [
      "현재 시간은  15 : 45 : 10 입니다.\n",
      "소요 시간을 입력하세요:2158\n",
      "소요 시간의 시:분:초는  0 : 35 : 58 입니다.\n"
     ]
    }
   ],
   "source": [
    "import time # 시간 메소드를 사용하기 위해 time모듈을 임포트한다.\n",
    "\n",
    "class Time: # 시간 클래스\n",
    "    def __init__(self): # 생성자, 초, 분, 시를 현재 시간으로 초기화한다.\n",
    "        # 각 데이터 변수는 private이다.\n",
    "        totalSeconds = int(time.time()) # 1970년 1월 1일부터 현재 까지 걸린 시간을 초로 받는다.\n",
    "        self.__second = totalSeconds % 60 # 현재 시간의 초\n",
    "        totalSeconds = totalSeconds // 60 # 전체 걸린 시간을 분단위로 변환\n",
    "        self.__minute = totalSeconds % 60 # 현재 시간의 분\n",
    "        totalSeconds = totalSeconds // 60 # 전체 걸린 시간을 시단위로 변환\n",
    "        self.__hour = totalSeconds % 24   # 현재 시간의 시\n",
    "    \n",
    "    # 각 데이터 변수의 접근자.\n",
    "    def getHour(self):\n",
    "        return self.__hour\n",
    "    def getMinute(self):\n",
    "        return self.__minute\n",
    "    def getSecond(self):\n",
    "        return self.__second\n",
    "    \n",
    "    # 사용자로부터 입력받은 소요시간을 객체의 새로운 시, 분, 초로 재설정하는 메소드\n",
    "    def setTime(self, elapseTime):\n",
    "        self.__second = elapseTime % 60 # 소요시간의 초\n",
    "        elapseTime = elapseTime // 60 # 소요시간을 분 단위로 변환\n",
    "        self.__minute = elapseTime % 60 # 소요시간의 분\n",
    "        elapseTime = elapseTime // 60 # 소요시간을 시 단위로 변환\n",
    "        self.__hour = elapseTime % 24 # 소요시간의 시\n",
    "        \n",
    "def main(): # 메인 메소드, 현재 시간을 출력하고, 소요시간을 입력 받은 후, 소요시간을 출력한다.\n",
    "    t = Time() # 시간 객체 생성\n",
    "    print(\"현재 시간은 \", t.getHour(), \":\", t.getMinute(), \":\", t.getSecond(), \"입니다.\") # 현재 시간 출력\n",
    "    elapseTime = eval(input(\"소요 시간을 입력하세요:\")) # 소요시간 입력\n",
    "    t.setTime(elapseTime) # 소요시간으로 시간을 재설정\n",
    "    print(\"소요 시간의 시:분:초는 \", t.getHour(), \":\", t.getMinute(), \":\", t.getSecond(), \"입니다.\") # 소요 시간 출력\n",
    "\n",
    "main() # 메인 메소드 호출"
   ]
  },
  {
   "cell_type": "markdown",
   "metadata": {},
   "source": [
    "# 문제 4번\n",
    "\n",
    "(대수학 : 2차 방정식 ) 2차 방정식 𝑎𝑥^2+𝑏𝑥+𝑐=0에 대한 QuadraticEquation 클래스를 설계하시오 . 클래스는 다음과 같이 구성된다 .\n",
    "\n",
    " 세 개의 계수를 표현하는 private 데이터 필드 a, b, c\n",
    "\n",
    " a, b, c 에 대한 인자를 받는 생성자\n",
    "\n",
    " a, b, c 에 대한 세 개의 get 메소드\n",
    "\n",
    "판별식 𝑏2−4𝑎𝑐를 반환하는 getDiscriminant() 메소드\n",
    "\n",
    " 다음 공식을 사용하여 방정식의 두 해를 반환하기 위한 getRoot1() 과 getRoot2 () 메소드\n",
    "\n",
    "두 메소드는 오직 판별식이 음수가 아닐 때만 유효하다 . 판별식이 음수이면 두 메소드는 0을 반환한다 . \n",
    "\n",
    "QuadraticEquation 클래스의 UML 다이어그램을 작성한 후 클래스를 구현하시오 .\n",
    "\n",
    "사용자로부터 a, b와 c의 값을 입력받고 판별식에 기반하여 결과를 출력하는 테스트 프로그램을 작성하시오 . \n",
    "\n",
    "판별식이 양수이면 두 해를 출력하시오 . 판별식이 0이면 , 하나의 해를 출력하시오 . 그렇지 않으면 “이 방정식은 해가 없습니다 .”를 출력하시오 ."
   ]
  },
  {
   "cell_type": "markdown",
   "metadata": {},
   "source": [
    "## 1.코드 설명\n",
    "\n",
    "먼저 sqrt를 사용하기 위해 math모듈을 import한다.\n",
    "\n",
    "1) QuadraticEquation 클래스는 데이터 변수로 2차 방정식의 계수인 a, b, c를 가진다. 각 데이터 변수는 private이고, 접근자(get)을 갖는다.\n",
    "\n",
    "생성자에서 각 데이터 변수는 사용자로부터 입력받은 인자 a, b, c에 의해서 초기화 된다.\n",
    "\n",
    "getDiscriminant메소드는 (self.__b ** 2) - (4 * self.__a * self.__c)을 계산하여 판별식(b^2 - 4*a*c)을 반환한다.\n",
    "\n",
    "getRoot1, getRoot2메소드는 getDiscriminant메소드 반환값이 음수라면 0을 반환하고, 아니라면 \n",
    "\n",
    "getRoot1은 (0 - self.__b + math.sqrt(self.getDiscriminant())) / (2 * self.__a)을 반환하여 해1((−𝑏 +√𝑏^2−4𝑎𝑐) / 2𝑎)을 반환하고,\n",
    "\n",
    "getRoot2은 (0 - self.__b - math.sqrt(self.getDiscriminant())) / (2 * self.__a)을 반환하여 해2((−𝑏 -√𝑏^2−4𝑎𝑐) / 2𝑎)을 반환한다.\n",
    "\n",
    "2) 메인 메소드에서 먼저 사용자로부터 a, b, c를 입력받고, QuadraticEquation(a, b, c)하여 객체를 생성한다.\n",
    "\n",
    "다음으로 객체의 메소드 getDiscriminant의 반환값에 따라 해가 존재하는지 판별한다.\n",
    "\n",
    "만약 getDiscriminant의 반환값이 양수라면 해가 2개 존재하므로, 객체의 메소드 getRoot1, getRoot2을 호출하여 2개의 해를 출력한다.\n",
    "\n",
    "만약 getDiscriminant의 반환값이 0이라면 해가 1개 존재하므로, 객체의 메소드 getRoo1만 호출하여 1개의 해를 출력한다.\n",
    "\n",
    "만약 getDiscriminant의 반환값이 음수라면 해가 존재하지 않으므로, “이 방정식은 해가 없습니다 .”를 출력한다.\n",
    "\n",
    "마지막으로 메인메소드를 호출하여 프로그램을 실행한다."
   ]
  },
  {
   "cell_type": "markdown",
   "metadata": {},
   "source": [
    "## 2. UML 다이어그램\n",
    "\n",
    "<img src=\"https://photos-3.dropbox.com/t/2/AADhfYB8vQNUqdTuq93qkEV4K67rZE6uB6kxtrdtbKqCdw/12/713794538/png/32x32/1/_/1/2/UML4.png/EMnonPEFGAYgBygH/4ZD1rmpcqQUO9d5XPPc7w-bQWin9RzavcQTVs_hX-ww?size=1280x960&size_mode=3\">"
   ]
  },
  {
   "cell_type": "markdown",
   "metadata": {},
   "source": [
    "## 3. 코드"
   ]
  },
  {
   "cell_type": "code",
   "execution_count": 14,
   "metadata": {},
   "outputs": [
    {
     "name": "stdout",
     "output_type": "stream",
     "text": [
      "a를 입력하세요 : 5\n",
      "b를 입력하세요 : 7\n",
      "c를 입력하세요 : -25\n",
      "해가 두개 입니다.\n",
      "r1 =  1.6430749027719962\n",
      "r2 =  -3.043074902771996\n"
     ]
    }
   ],
   "source": [
    "import math # 수학 함수를 사용하기 위해 math모듈을 임포트한다.\n",
    "class QuadraticEquation: # 2차방정식해 클래스\n",
    "    def __init__(self, a, b, c): # 생성자, 세 개의 계수를 인자로 받아 a,b,c를 초기화한다.\n",
    "        # 각 데이터 변수는 private이다.\n",
    "        self.__a = a\n",
    "        self.__b = b\n",
    "        self.__c = c\n",
    "    \n",
    "    # 각 데이터 변수의 접근자.\n",
    "    def getA(self):\n",
    "        return self.__a\n",
    "    def getB(self):\n",
    "        return self.__b\n",
    "    def getC(self):\n",
    "        return self.__c\n",
    "    \n",
    "    def getDiscriminant(self): # 판별식을 반환하는 메소드\n",
    "        return (self.__b ** 2) - (4 * self.__a * self.__c)\n",
    "    def getRoot1(self): # 첫 번째 해를 반환하는 메소드, 판별식이 음수라면 0을 반환한다.\n",
    "        if self.getDiscriminant() < 0:\n",
    "            return 0\n",
    "        else:\n",
    "            return (0 - self.__b + math.sqrt(self.getDiscriminant())) / (2 * self.__a) # (−𝑏 +√𝑏^2−4𝑎𝑐) / 2𝑎\n",
    "    def getRoot2(self): # 두 번째 해를 반환하는 메소드, 판별식이 음수라면 0을 반환한다.\n",
    "        if self.getDiscriminant() < 0:\n",
    "            return 0\n",
    "        else:\n",
    "            return (0 - self.__b - math.sqrt(self.getDiscriminant())) / (2 * self.__a) # (−𝑏 -√𝑏^2−4𝑎𝑐) / 2𝑎\n",
    "    \n",
    "def main(): # 메인 메소드, 세 개의 계수를 입력받아 생성된 2차방정식을 판별식에 따라 해를 출력한다.\n",
    "    a = eval(input(\"a를 입력하세요 : \"))\n",
    "    b = eval(input(\"b를 입력하세요 : \"))\n",
    "    c = eval(input(\"c를 입력하세요 : \"))\n",
    "    \n",
    "    quadra = QuadraticEquation(a, b, c) # 2차방정식 𝑎𝑥^2+𝑏𝑥+𝑐 객체 생성\n",
    "    if quadra.getDiscriminant() > 0 : # 판별식이 양수면 해가 2개이다.\n",
    "        print(\"해가 두개 입니다.\")\n",
    "        print(\"r1 = \", quadra.getRoot1())\n",
    "        print(\"r2 = \", quadra.getRoot2())\n",
    "    elif quadra.getDiscriminant() == 0: # 판별식이 0이면 해가 1개이다.\n",
    "        print(\"해가 하나 입니다.\")\n",
    "        print(\"r = \", quadra.getRoot1())\n",
    "    else: # 판별식이 음수라면 해가 없다.\n",
    "        print(\"이 방정식은 해가 없습니다.\")\n",
    "\n",
    "main() # 메인 메소드 호출"
   ]
  }
 ],
 "metadata": {
  "kernelspec": {
   "display_name": "Python 3",
   "language": "python",
   "name": "python3"
  },
  "language_info": {
   "codemirror_mode": {
    "name": "ipython",
    "version": 3
   },
   "file_extension": ".py",
   "mimetype": "text/x-python",
   "name": "python",
   "nbconvert_exporter": "python",
   "pygments_lexer": "ipython3",
   "version": "3.6.3"
  }
 },
 "nbformat": 4,
 "nbformat_minor": 2
}
