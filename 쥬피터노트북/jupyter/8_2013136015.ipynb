{
 "cells": [
  {
   "cell_type": "markdown",
   "metadata": {},
   "source": [
    "# 문제 1번\n",
    "\n",
    "(중복값 제거하기) 주어진 리스트에 대해서 중복값이 제거된 새로운 리스트를 반환하는 함수를 작성하시오. \n",
    "\n",
    "다음의 함수 헤더를 사용하라.def eliminateDuplicates(lst):\n",
    "\n",
    "사용자로부터 정수 리스트를 입력받고, 위 함수를 호출하여 얻은 결과를 출력하는 테스트\n",
    "\n",
    "프로그램을 작성하시오."
   ]
  },
  {
   "cell_type": "markdown",
   "metadata": {},
   "source": [
    "## 1.코드 설명\n",
    "\n",
    "1) eliminateDuplicates 함수는 인자로 정수 리스트를 받는다. \n",
    "\n",
    "입력된 정수의 순서를 유지하고 중복 입력된 숫자를 제거하기 위해 리스트 끝에서 부터 검사하도록 한다.\n",
    "\n",
    "먼저 인덱스 i를 리스트 끝으로 설정 하고, 다음으로 리스트 i번째의 원소의 count가 1이 넘는지 확인한다. \n",
    "\n",
    "만약 1이 넘는다면, 중복 입력된 정수이므로 해당 원소를 pop하여 리스트에서 제거한다. 마지막으로 i를 1줄여 다음 원소로 넘어간다.\n",
    "\n",
    "이 검사를 i가 0이 될 때 까지 반복한다.\n",
    "\n",
    "반복문을 빠져나가고 중복 입력된 정수를 제거한 리스트를 출력한다.\n",
    "\n",
    "2) main 함수에서 먼저 10개의 정수를 스페이스바로 구분하여 문자열로 입력받고, 이 문자열을 스페이스로 split하여 리스트로 변환한다.\n",
    "\n",
    "그리고 리스트의 각 원소를 숫자로 바꾸고, eliminateDuplicates 함수를 호출하여 중복이 제거된 리스트를 출력한다.\n",
    "\n",
    "마지막으로 main 함수를 호출하여 프로그램을 실행한다."
   ]
  },
  {
   "cell_type": "markdown",
   "metadata": {},
   "source": [
    "## 2. 코드"
   ]
  },
  {
   "cell_type": "code",
   "execution_count": 4,
   "metadata": {},
   "outputs": [
    {
     "name": "stdout",
     "output_type": "stream",
     "text": [
      "10개의 숫자를 입력하세요. (스페이스바로 구분합니다.):1 2 3 4 5 5 5 6 7\n",
      "중복을 제거한 고유한 숫자:1 2 3 4 5 6 7 "
     ]
    }
   ],
   "source": [
    "def eliminateDuplicates(lst): # 사용자로부터 정수 리스트를 받아 중복을 제거한 리스트를 출력함\n",
    "    i = len(lst) - 1          # 리스트 끝에서부터 시작함\n",
    "    while i > 0:              # 리스트를 끝에서부터 처음까지 살펴 본다.\n",
    "        if lst.count(lst[i]) > 1: # count가 1을 넘으면, 중복이므로 해당 원소를 pop하여 제거함\n",
    "            lst.pop(i)\n",
    "        i -= 1                # 다음 인덱스로 넘어감\n",
    "    print(\"중복을 제거한 고유한 숫자:\", end = \"\")\n",
    "    for i in range(len(lst)): \n",
    "        print(lst[i], end = \" \") # 리스트에서 중복을 제거한 숫자를 한 줄에 출력한다.\n",
    "\n",
    "def main():\n",
    "    s = input(\"10개의 숫자를 입력하세요. (스페이스바로 구분합니다.):\") # 10개의 숫자를 문자열로 입력받음\n",
    "    nlist = s.split(\" \")         # 스페이스바로 구분하여 리스트에 저장\n",
    "    for i in range(len(nlist)):  # 리스트의 원소를 숫자로 변경\n",
    "        nlist[i] = eval(nlist[i])\n",
    "    eliminateDuplicates(nlist)   # 함수 호출하여 중복이 제거된 숫자들 출력\n",
    "\n",
    "main()   # 프로그램 실행"
   ]
  },
  {
   "cell_type": "markdown",
   "metadata": {},
   "source": [
    "# 문제 2번\n",
    "\n",
    "(시뮬레이션: 쿠폰 수집가 문제) 쿠폰 수집가 문제는 다양한 실전 응용을 가진 고전적인 통계 문제이다. \n",
    "\n",
    "이 문제는 객체 집합에서 반복적으로 객체를 뽑고, 모든 객체가 적어도 한 번씩 선택되기 \n",
    "\n",
    "위해 얼마나 많은 시도가 필요한지를 알아내는 것이다.\n",
    "\n",
    "이문제를 52 장의 뒤섞여진 카드로 구성된 카드팩에서 반복해서 카드를 뽑고 모든 종류의\n",
    "\n",
    "카드가 선택되기까지 얼마나 많은 시도가 필요한지를 알아내는 문제로 변형해 보자.\n",
    "\n",
    "뽑은 카드는 카드팩에 다시 넣는다고 가정한다. 문양이 다른 4장의 카드를 얻기 위해 시도한 횟수를\n",
    "\n",
    "시뮬레이션하며 뽑은 4 장의 카드를 출력하는 프로그램을 작성하시오(1 장의 카드가 두 번 뽑힐 수도 있다)."
   ]
  },
  {
   "cell_type": "markdown",
   "metadata": {},
   "source": [
    "## 1.코드 설명\n",
    "\n",
    "1) simulate 함수는 52장의 카드에서 카드 4장이 각각 문양이 다를 때 까지 뽑은 횟수와 뽑은 카드를 출력한다.\n",
    "\n",
    "함수는 변수로 뽑은 횟수 count, 뽑은 카드 리스트 card를 갖는다.\n",
    "\n",
    "card의 각 인덱스는 문양을 의미하고 인덱스에 해당하는 원소는 카드의 숫자를 의미한다.\n",
    "\n",
    "각 변수는 처음에 count는 0, card는 [0, 0, 0, 0]으로 초기화하여 4장의 카드를 아직 뽑지 않은 상태로 만든다. \n",
    "\n",
    "while 반복문에서 문양이 다른 4장의 카드를 뽑을 때 까지 반복한다.\n",
    "\n",
    "반복문안에서 먼저 count를 1 증가 시킨다. 다음으로 0~52사이의 난수 하나를 choice변수에 저장하고,\n",
    "\n",
    "pattern은 choice//13, num은 choice%13으로 카드의 문양과 숫자를 설정한다.\n",
    "\n",
    "그리고 card[pattern]에 num을 저장한다. \n",
    "\n",
    "만약 card리스트에서 0의 count가 0이라면, 즉, 다른 문양의 카드가 다 뽑혔다면 while문을 빠져나간다.\n",
    "\n",
    "while문을 빠져나가면 문양별로 뽑힌 카드의 숫자를 출력하고, 카드를 뽑은 횟수를 출력한다.\n",
    "\n",
    "2) main함수에서 먼저 카드 숫자를 가지는 문자열 리스트를 초기화한다. 그리고 simulate함수를 호출하여 카드와 뽑은 횟수를 출력한다.\n",
    "\n",
    "마지막으로 main함수를 호출하여 프로그램을 실행한다.\n"
   ]
  },
  {
   "cell_type": "markdown",
   "metadata": {},
   "source": [
    "## 2. 코드"
   ]
  },
  {
   "cell_type": "code",
   "execution_count": 29,
   "metadata": {},
   "outputs": [
    {
     "name": "stdout",
     "output_type": "stream",
     "text": [
      "스페이드 6\n",
      "클로버 9\n",
      "하트 7\n",
      "다이아몬드 10\n",
      "뽑은 횟수 :  8\n"
     ]
    }
   ],
   "source": [
    "import random # 랜덤 함수를 사용하기위해 import함 \n",
    "def simulate(card_list): # 52장의 카드에서 서로 문양이 다른 4장의 카드를 뽑는 횟수를 출력함\n",
    "    count = 0     # 카드를 뽑은 횟수\n",
    "    card = [0, 0, 0, 0]     # 카드 리스트, 0은 아직 해당 문양의 카드가 없다는걸 의미\n",
    "    \n",
    "    while True:    # 문양이 다른 4장의 카드를 뽑을 때 까지 반복함 \n",
    "        count += 1 # 뽑은 횟수 1 증가\n",
    "        choice = random.randrange(0, 52) # 52장의 카드중 랜덤으로 하나 뽑고 다시 카드 더미에 넣음\n",
    "        pattern = choice // 13 # 뽑은 카드의 문양\n",
    "        num = choice % 13      # 뽑은 카드의 숫자\n",
    "        card[pattern] = num   # 카드 리스트에 카드를 저장한다.\n",
    "\n",
    "        if card.count(0) == 0: # 만약 다른 문양의 카드 4장이 다 뽑혔다면 반복을 종료한다.\n",
    "            break\n",
    "    \n",
    "    for i in range(4): # 각 문양의 카드를 출력한다.\n",
    "        if i == 0 :\n",
    "            print(\"스페이드\", card_list[card[i]])\n",
    "        elif i == 1 :\n",
    "            print(\"클로버\", card_list[card[i]])\n",
    "        elif i == 2 :\n",
    "            print(\"하트\", card_list[card[i]])\n",
    "        elif i == 3 :\n",
    "            print(\"다이아몬드\", card_list[card[i]])\n",
    "            \n",
    "    print(\"뽑은 횟수 : \", count) # 카드를 뽑은 횟수를 출력한다.\n",
    "    \n",
    "def main():\n",
    "    card_list = [\"1\", \"2\", \"3\", \"4\", \"5\", \"6\", \"7\", \"8\", \"9\", \"10\", \"J\", \"Q\", \"K\"] # 카드 리스트\n",
    "    simulate(card_list) # 함수를 호출하여 52장의 카드중 문양이 다른 4장의 카드를 뽑은 횟수를 출력한다.\n",
    "    \n",
    "main() # 프로그램 실행"
   ]
  },
  {
   "cell_type": "markdown",
   "metadata": {},
   "source": [
    "# 문제 3번\n",
    "\n",
    "(패턴 인식: 연속된 네 개의 동일 숫자) 어떤 리스트가 동일한 네 숫자를\n",
    "\n",
    "연속으로 갖고 있는지를 검사하는 함수를 작성하시오. 함수 헤더는 다음과 같다.\n",
    "\n",
    "def isConsecutiveFour(values):\n",
    "\n",
    "사용자로부터 일련의 정수들을 입력받고, 동일한 네 숫자를 연속으로 갖고 있는지를\n",
    "\n",
    "검사하는 테스트 프로그램을 작성하시오."
   ]
  },
  {
   "cell_type": "markdown",
   "metadata": {},
   "source": [
    "## 1.코드 설명\n",
    "\n",
    "1) isConsecutiveFour함수는 인자로 정수 리스트 values를 받는다. \n",
    "\n",
    "만약 values의 길이가 4보다 작다면, 동일한 네 숫자를 가질 수 없으므로 False를 반환한다.\n",
    "\n",
    "만약 values의 길이가 4이상이면, 먼저 bool형 변수 consecutive를 False로 초기화 한다. \n",
    "\n",
    "consecutive는 연속된 동일한 네 숫자를 가지는지 판단한다.\n",
    "\n",
    "다음으로 for문에서 먼저 변수 check를 values의 i번째 원소로 저장하고, 다음 for문에서 \n",
    "\n",
    "check가 values의 i+1, 2, 3 번째 원소와 같은지 비교한다. 만약 같다면 consecutive를 True로 하고, 다르다면 \n",
    "\n",
    "False로 하고 break하여 for문을 벗어나 다음 i로 넘어간다. 내부 for문이 끝나고 consecutive이 True로 되어있다면\n",
    "\n",
    "True를 반환한다. 외부 for문을 벗어나면 연속된 동일한 네 숫자가 없으므로 False를 반환한다.\n",
    "\n",
    "2) main 함수에서 먼저 정수를 스페이스바로 구분하여 문자열로 입력받는다. 그리고 스페이스바로 split하여 리스트에 저장하고,\n",
    "\n",
    "리스트의 각 원소들을 문자에서 숫자로 변경한다.\n",
    "\n",
    "마지막으로 isConsecutiveFour함수를 호출하여 리스트가 동일한 네 숫자를 연속으로 가지는지 출력한다.\n",
    "\n",
    "main함수를 호출하여 프로그램을 실행한다."
   ]
  },
  {
   "cell_type": "markdown",
   "metadata": {},
   "source": [
    "## 2. 코드"
   ]
  },
  {
   "cell_type": "code",
   "execution_count": 18,
   "metadata": {},
   "outputs": [
    {
     "name": "stdout",
     "output_type": "stream",
     "text": [
      "정수 리스트를 입력하세요. (스페이스바로 구분합니다.):7 8 6 8 7 1 2 3 8 8 8 8 7\n",
      "리스트 [7, 8, 6, 8, 7, 1, 2, 3, 8, 8, 8, 8, 7] 는 동일한 네 숫자를 가지는가?: True\n"
     ]
    }
   ],
   "source": [
    "def isConsecutiveFour(values): # 연속된 동일한 네 숫자를 가지는지 확인한다.\n",
    "    if len(values) < 4:       # 리스트의 길이가 4보다 작으면 False반환\n",
    "        return False\n",
    "    else:\n",
    "        consecutive = False  # 연속된 동일한 네 숫자를 가지는지 판단함, 처음엔 False\n",
    "        for i in range(len(values) - 3): # 리스트의 처음부터 끝에서 3번째 까지 검사함\n",
    "            check = values[i] # 리스트의 i번째 원소, 이 원소를 기준으로 i+3번째 까지의 원소가 같은지 비교함\n",
    "            for j in range(1, 4): # j는 1부터 3까지 간다.\n",
    "                if check == values[i + j]: # 원소가 같은지 비교함\n",
    "                    consecutive = True     # 같다면 True로 설정함\n",
    "                else:\n",
    "                    consecutive = False    # 다르면 False로 설정하고 break하여 다음 i로 넘어감\n",
    "                    break\n",
    "            if consecutive == True: # 반복문을 빠져나갔는데 아직 True라면, 연속된 네 숫자가 동일하므로, True를 반환한다.\n",
    "                return True\n",
    "        return False # 반복문을 빠져나갔다면 동일한 네 숫자를 가지지 않았으므로 False를 반환함\n",
    "    \n",
    "def main():\n",
    "    s = input(\"정수 리스트를 입력하세요. (스페이스바로 구분합니다.):\") # 정수를 스페이스바로 구분하여 문자열로 입력받음\n",
    "    nlist = s.split(\" \") # 문자열을 스페이스바로 구분하여 리스트에 저장\n",
    "    for i in range(len(nlist)): # 리스트의 원소를 문자에서 숫자로 변경\n",
    "        nlist[i] = eval(nlist[i])\n",
    "    print(\"리스트\", nlist,\"는 동일한 네 숫자를 가지는가?:\", isConsecutiveFour(nlist)) # 함수를 호출하여 동일한 네 숫자를 가지는지 확인\n",
    "    \n",
    "main() # 프로그램 실행"
   ]
  },
  {
   "cell_type": "markdown",
   "metadata": {},
   "source": [
    "# 문제 4번\n",
    "\n",
    "(행렬의 주대각선 합하기) 다음 헤더를 사용하여 정수로 이루어진 n x n\n",
    "\n",
    "행렬의 주대각선에 포함된 모든 숫자의 합을 구하는 함수를 작성하시오.\n",
    "\n",
    "def sumMajorDiagonal(m):\n",
    "\n",
    "주대각선이란 정방행렬의 왼쪽 위 모서리에서 오른쪽 아래 모서리를 가로지르는 대각선을\n",
    "\n",
    "말한다. 4 x 4 행렬을 읽고 주대각선에 있는 모든 원소의 합계를 출력하는 프로그램을\n",
    "\n",
    "작성하시오."
   ]
  },
  {
   "cell_type": "markdown",
   "metadata": {},
   "source": [
    "## 1.코드 설명\n",
    "\n",
    "1) sumMajorDiagonal함수는 2차원 리스트 m을 인자로 받는다. 함수에서 먼저 주대각선의 원소의 합계를 의미하는 \n",
    "\n",
    "sum_num을 0으로 초기화한다. 다음으로 for문에서 리스트m의 i행, i열의 원소를 sum_num에 더한다. 이를 m의 행 길이만큼 반복한다.\n",
    "\n",
    "마지막으로 sum_num을 반환한다.\n",
    "\n",
    "2) main함수에서 먼저 nlist를 빈 리스트로 초기화한다. 그리고 for문에서 nlist에 다시 빈 리스트를 추가하여 한 행을 만들고,\n",
    "\n",
    "nlist는 4x4행렬이므로, 사용자로부터 정수 4개를 스페이스바로 구분하여 문자열로 입력받는다. \n",
    "\n",
    "그리고 입력받은 문자열을 스페이스바로 split하여 nlist[i]에 리스트로 저장한다. 그리고 리스트의 각 원소들을 숫자로 변경한다.\n",
    "\n",
    "행이 4개 이므로 이 동작을 4번 반복한다.\n",
    "\n",
    "for문을 빠져나가면 sumMajorDiagonal함수를 호출하여 nlist의 주대각선에 포함된 원소의 합계를 출력한다.\n",
    "\n",
    "마지막으로 main을 호출하여 프로그램을 실행한다."
   ]
  },
  {
   "cell_type": "markdown",
   "metadata": {},
   "source": [
    "## 2. 코드"
   ]
  },
  {
   "cell_type": "code",
   "execution_count": 1,
   "metadata": {},
   "outputs": [
    {
     "name": "stdout",
     "output_type": "stream",
     "text": [
      "4 x 4 행렬의 1 번 행에 대한 원소를 입력하세요(스페이스바로 구분합니다.):1 2 3 4\n",
      "4 x 4 행렬의 2 번 행에 대한 원소를 입력하세요(스페이스바로 구분합니다.):1 2 3 4\n",
      "4 x 4 행렬의 3 번 행에 대한 원소를 입력하세요(스페이스바로 구분합니다.):1 2 3 4\n",
      "4 x 4 행렬의 4 번 행에 대한 원소를 입력하세요(스페이스바로 구분합니다.):1 2 3 4\n",
      "주 대각선에 포함된 원소의 합계는 10 입니다.\n"
     ]
    }
   ],
   "source": [
    "def sumMajorDiagonal(m): # 행렬 m의 주대각선에 포함된 원소의 합계를 반환함\n",
    "    sum_num= 0              # 주대각선에 포함된 원소의 합계, 처음엔 0으로 초기화\n",
    "    for i in range(len(m)): # m은 n*n 행렬이므로, m의 행의 길이로 해도 된다.\n",
    "        sum_num += m[i][i] # 주대각선의 원소를 더한다.\n",
    "    return sum_num        # 합계를 반환함\n",
    "\n",
    "def main():\n",
    "    nlist = [] # 빈 리스트로 초기화\n",
    "    for i in range(4): # 4x4 행렬이므로 4번 반복\n",
    "        nlist.append([]) # 빈 행을 추가함\n",
    "        # 4개의 정수를 문자열로 스페이스바로 구분하여 입력받음\n",
    "        s = input(\"4 x 4 행렬의 \" + str(i+1) + \" 번 행에 대한 원소를 입력하세요(스페이스바로 구분합니다.):\")\n",
    "        nlist[i] = s.split(\" \") # 문자열을 스페이스바로 구분하여 리스트에 저장함\n",
    "        for j in range(len(nlist[i])): # 각 리스트의 원소를 문자에서 숫자로 변경함\n",
    "            nlist[i][j] = eval(nlist[i][j])\n",
    "    print(\"주 대각선에 포함된 원소의 합계는\", sumMajorDiagonal(nlist), \"입니다.\") # 함수를 호출하여 주대각선에 포함된 원소의 합계를 출력\n",
    "\n",
    "main() # 프로그램 실행"
   ]
  },
  {
   "cell_type": "markdown",
   "metadata": {},
   "source": [
    "# 문제 5번\n",
    "\n",
    "(대수학: 행렬의 곱) 두 행렬을 곱하는 함수를 작성하시오. 함수의 헤더는 다음과 같다. def multiplyMatrix(a, b):\n",
    "\n",
    "행렬 a 와 행렬 b 를 곱하기 위해서, 행렬 a 의 열의 개수와 행렬 b 의 행의 개수가 같아야\n",
    "\n",
    "하고 두 행렬의 원소는 동일한 또는 호환 가능한 데이터 타입이어야 한다. c 를 행렬 곱의 결과라고 하자. \n",
    "\n",
    "행렬 a 의 열의 크기는 n 이라고 가정한다. 각 원소 cij 는 ai1 ∗ b1j + ai2 * b2j + ⋯ + ain ∗ bnj이다.\n",
    "\n",
    "사용자로부터 두 행렬을 입력받고 두 행렬의 곱을 출력하는 예제 프로그램을 작성하시오"
   ]
  },
  {
   "cell_type": "markdown",
   "metadata": {},
   "source": [
    "## 1.코드 설명\n",
    "\n",
    "1) multiplyMatrix함수는 n*n 2차원 리스트 a, b를 인자로 받는다. 함수는 먼저 리스트 c를 빈 리스트로 초기화한다. \n",
    "\n",
    "그리고 a와 b는 서로 행과 열의 길이가 같으므로 길이 n을 len(a)로 초기화한다.\n",
    "\n",
    "다음으로 for문에서 c에 빈 리스트를 추가하여 한 행을 만든다. \n",
    "\n",
    "그리고 내부 for문에서 sum_num을 0으로 초기화 한 다음, 또 내부 for문에서 sum_num에 a[i][k] * b[k][j]를 더한다. 이를 n번 반복하고\n",
    "\n",
    "for문을 빠져나가면 sum_num을 보기 편하게 소수점 2자리까지 저장하고, c[i]에 sum_num을 추가한다.\n",
    "\n",
    "for문을 빠져나가고 다시 for문에서 행렬 a, b, c를 출력한다.\n",
    "\n",
    "2) main 함수에서 먼저 행렬의 크기n을 입력받는다. 그리고 리스트 list_a, list_b를 빈 리스트로 초기화한다.\n",
    "\n",
    "다음으로 먼저 for문에서 list_a에 빈 리스트를 추가하여 한 행을 추가하고, \n",
    "\n",
    "while문에서 사용자로부터 정수를 스페이스바로 구분하여 입력받고, 이를 스페이스바로 split하여 list_a[i]에 저장한다.\n",
    "\n",
    "이를 list_a[i]의 길이가 n이 될 때 까지 다시 입력받도록 한다. list_b도 같은 방식으로 입력받는다.\n",
    "\n",
    "list_a와 list_b의 입력이 끝나면, 각 리스트의 원소를 문자에서 숫자로 변경한다. \n",
    "\n",
    "마지막으로 multiplyMatrix함수를 호출하여 두 행렬의 곱을 출력한다.\n",
    "\n",
    "main함수를 호출하여 프로그램을 실행한다."
   ]
  },
  {
   "cell_type": "markdown",
   "metadata": {},
   "source": [
    "## 2. 코드"
   ]
  },
  {
   "cell_type": "code",
   "execution_count": 37,
   "metadata": {},
   "outputs": [
    {
     "name": "stdout",
     "output_type": "stream",
     "text": [
      "행렬의 크기를 입력하세요:4\n",
      "행렬 1의 1 번 행에 대한 원소를 입력하세요(스페이스바로 구분합니다.):1 2 3 4\n",
      "행렬 1의 2 번 행에 대한 원소를 입력하세요(스페이스바로 구분합니다.):3 2 1 1\n",
      "행렬 1의 3 번 행에 대한 원소를 입력하세요(스페이스바로 구분합니다.):7 8 9 7\n",
      "행렬 1의 4 번 행에 대한 원소를 입력하세요(스페이스바로 구분합니다.):8 4 2 5\n",
      "\n",
      "행렬 2의 1 번 행에 대한 원소를 입력하세요(스페이스바로 구분합니다.):8 12 574 5\n",
      "행렬 2의 2 번 행에 대한 원소를 입력하세요(스페이스바로 구분합니다.):3 5 7 9\n",
      "행렬 2의 3 번 행에 대한 원소를 입력하세요(스페이스바로 구분합니다.):5 4 8 7\n",
      "행렬 2의 4 번 행에 대한 원소를 입력하세요(스페이스바로 구분합니다.):7 5 3 9\n",
      "두 행렬의 곱은 다음과 같습니다.\n",
      "[1, 2, 3, 4]         [8, 12, 574, 5]      [57.0, 54.0, 624.0, 80.0]\n",
      "[3, 2, 1, 1]         [3, 5, 7, 9]         [42.0, 55.0, 1747.0, 49.0]\n",
      "[7, 8, 9, 7]       * [5, 4, 8, 7]       = [174.0, 195.0, 4167.0, 233.0]\n",
      "[8, 4, 2, 5]         [7, 5, 3, 9]         [121.0, 149.0, 4651.0, 135.0]\n"
     ]
    }
   ],
   "source": [
    "def multiplyMatrix(a, b): # a와 b는 n*n리스트\n",
    "    c = [] # 빈 리스트로 초기화\n",
    "    n = len(a) # a와 b는 n*n 행렬이므로, a의 행 길이로 n을 설정함\n",
    "    \n",
    "    for i in range(n):     # a의 행 길이 만큼 반복(n)\n",
    "        c.append([])       # 리스트 c에 빈 행을 추가함\n",
    "        for j in range(n): # b의 열 길이 만큼 반복(n)\n",
    "            sum_num = 0    # aij*bji를 더할 변수\n",
    "            for k in range(n): # a의 한 행에 있는 원소의 개수가 n개 이므로 n번 반복함\n",
    "                sum_num += a[i][k] * b[k][j]\n",
    "            sum_num = int(sum_num * 100) / 100.0 # 소수점 2자리까지 저장\n",
    "            c[i].append(sum_num) # sum_num을 cij의 원소로 추가한다.\n",
    "    \n",
    "    for i in range(n): # 행렬 a, b, c를 출력함\n",
    "        if i == n // 2: # 행렬의 가운데에 *, =등 수식을 출력\n",
    "            print(\"%-18s * %-18s = %-20s\" %(a[i], b[i], c[i])) # 보기 편하게 출력\n",
    "        else:\n",
    "            print(\"%-20s %-20s %-20s\" %(a[i], b[i], c[i])) # 보기 편하게 출력\n",
    "            \n",
    "def main():\n",
    "    n = eval(input(\"행렬의 크기를 입력하세요:\")) # 행렬의 크기를 입력받음\n",
    "    list_a = [] # a, b를 빈 리스트로 초기화함\n",
    "    list_b = []\n",
    "    \n",
    "    for i in range(n): # 행의 크기만큼 반복\n",
    "        list_a.append([]) # 빈 행을 추가함\n",
    "        while len(list_a[i]) != n: # 한 행의 원소의 개수가 n이 될 때 까지 다시 입력 받음\n",
    "            s = input(\"행렬 1의 \" + str(i+1) + \" 번 행에 대한 원소를 입력하세요(스페이스바로 구분합니다.):\")\n",
    "            list_a[i] = s.split(\" \") # 스페이스바로 구분하여 리스트에 저장함\n",
    "    print()\n",
    "    for i in range(n): # 행의 크기만큼 반복\n",
    "        list_b.append([]) # 빈 행을 추가함\n",
    "        while len(list_b[i]) != n: # 한 행의 원소의 개수가 n이 될 때 까지 다시 입력 받음\n",
    "            s = input(\"행렬 2의 \" + str(i+1) + \" 번 행에 대한 원소를 입력하세요(스페이스바로 구분합니다.):\")\n",
    "            list_b[i] = s.split(\" \") # 스페이스바로 구분하여 리스트에 저장함\n",
    "\n",
    "    for i in range(n): # 각 원소를 문자에서 숫자로 변경한다.\n",
    "        for j in range(n):\n",
    "            list_a[i][j] = eval(list_a[i][j])\n",
    "            list_b[i][j] = eval(list_b[i][j])\n",
    "    print(\"두 행렬의 곱은 다음과 같습니다.\")\n",
    "    multiplyMatrix(list_a, list_b) # 두 행렬의 곱을 출력한다.\n",
    "\n",
    "main() # 프로그램 실행"
   ]
  }
 ],
 "metadata": {
  "kernelspec": {
   "display_name": "Python 3",
   "language": "python",
   "name": "python3"
  },
  "language_info": {
   "codemirror_mode": {
    "name": "ipython",
    "version": 3
   },
   "file_extension": ".py",
   "mimetype": "text/x-python",
   "name": "python",
   "nbconvert_exporter": "python",
   "pygments_lexer": "ipython3",
   "version": "3.6.3"
  }
 },
 "nbformat": 4,
 "nbformat_minor": 2
}
