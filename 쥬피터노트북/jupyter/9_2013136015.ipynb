{
 "cells": [
  {
   "cell_type": "markdown",
   "metadata": {},
   "source": [
    "# 문제 1번\n",
    "\n",
    "(텍스트 제거) 텍스트 파일로부터 특정 문자열이 나타난 모든 부분을\n",
    "\n",
    "제거하는 프로그램을 작성하시오. 프로그램은 사용자로부터 파일명과 제거할 문자열을 입력받는다."
   ]
  },
  {
   "cell_type": "markdown",
   "metadata": {},
   "source": [
    "## 1.코드 설명\n",
    "\n",
    "main 함수에서 먼저 읽어올 파일 이름을 입력받고, 읽기 형식으로 연다. 만약 존재하지 않는 파일의 이름을 적으면 다시 입력받는다.\n",
    "\n",
    "다음으로 파일에서 제거할 문자열을 입력받는다. 그리고 빈 리스트를 생성한다.\n",
    "\n",
    "for문에서 파일에서 한 줄씩 읽어나가는데, 읽은 문자열에서 제거할 문자열을 제외한 후, 이를 리스트에 저장한다.\n",
    "\n",
    "이 동작을 파일 끝이 나올 때 까지 반복한다. 그리고 파일을 닫고, 같은 파일을 쓰기 형식으로 연다.\n",
    "\n",
    "for문에서 파일에 리스트에 저장된 문자열을 한 줄씩 저장하고, 파일을 닫는다.\n",
    "\n",
    "마지막으로 main함수를 호출하여 프로그램을 실행한다."
   ]
  },
  {
   "cell_type": "markdown",
   "metadata": {},
   "source": [
    "## 2. 코드"
   ]
  },
  {
   "cell_type": "code",
   "execution_count": 15,
   "metadata": {},
   "outputs": [
    {
     "name": "stdout",
     "output_type": "stream",
     "text": [
      "open할 파일 이름을 입력하세요 : t\n",
      "파일t이/가 존재하지 않습니다. 다시 시도하세요\n",
      "open할 파일 이름을 입력하세요 : test_1.txt\n",
      "제거할 문자열을 입력하세요 : morning\n",
      "완료\n"
     ]
    }
   ],
   "source": [
    "def main():\n",
    "    while True: # 파일을 열때 까지 반복한다.\n",
    "        try:\n",
    "            f_name = input(\"open할 파일 이름을 입력하세요 : \") # open할 파일 이름 \n",
    "            f_read = open(f_name, \"r\") # 읽기 형식으로 연다\n",
    "            break\n",
    "        except IOError: # 읽어오기 실패\n",
    "            print(\"파일\" + f_name + \"이/가 존재하지 않습니다. 다시 시도하세요\")\n",
    "            \n",
    "    reduce_word = input(\"제거할 문자열을 입력하세요 : \") # 파일에서 제거할 문자열 입력받음\n",
    "    txt_list = []               # 파일의 문자열을 저장할 빈 리스트 생성\n",
    "    \n",
    "    for line in f_read:         # 파일을 한 줄씩 읽어 나간다.\n",
    "        if reduce_word in line: # 제외할 문자열이 존재한다면\n",
    "            txt_list.append(line.replace(reduce_word, \"\")) # line에서 문자열을 제외하고, 이를 리스트에 저장함\n",
    "    f_read.close() # 읽기 형식 파일 닫음\n",
    "     \n",
    "    f_write = open(f_name, \"w\") # 같은 파일을 쓰기 형식으로 open함\n",
    "    for line in txt_list:       # 리스트에 있는 문자열을 파일에 쓴다.\n",
    "        f_write.write(line)\n",
    "    f_write.close()             # 파일을 닫는다.\n",
    "    print(\"완료\")\n",
    "    \n",
    "main() # 프로그램 실행"
   ]
  },
  {
   "cell_type": "markdown",
   "metadata": {},
   "source": [
    "# 문제 2번\n",
    "\n",
    "(파일에 문자, 단어 및 행의 개수 세기) 파일에 포함된 문자, 단어 및 행의\n",
    "\n",
    "개수를 세는 프로그램을 작성하시오. \n",
    "\n",
    "단어는 공백으로 분리된다. 프로그램은 사용자로부터 파일이름을 입력받는다."
   ]
  },
  {
   "cell_type": "markdown",
   "metadata": {},
   "source": [
    "## 1.코드 설명\n",
    "\n",
    "main 함수에서 먼저 읽어올 파일 이름을 입력받고, 읽기 형식으로 연다. 만약 존재하지 않는 파일의 이름을 적으면 다시 입력받는다.\n",
    "\n",
    "다음으로 문자의 개수, 단어의 개수, 행의 개수를 의미하는 변수들을 각각 0, 0, 1로 초기화한다.\n",
    "\n",
    "행은 처음에 1부터 시작한다.\n",
    "\n",
    "다음으로 for문에서 파일을 한 줄씩 읽어 나가는데, 문자의 개수에 한 줄의 길이를 더한다.\n",
    "\n",
    "그리고 한 줄을 공백을 기준으로 split하여 임시 리스트 w에 저장한다.\n",
    "\n",
    "for문에서 w의 원소들을 검사하는데, 만약 w의 원소가 빈 문자('') 이나 \n",
    "\n",
    "줄바꿈 문자('\\n')가 아니라면 단어의 개수를 1증가 시킨다. 만약 줄바꿈 문자라면 문자의 개수를 1감소하고, \n",
    "\n",
    "행의 개수를 1증가 시킨다. 파일을 모두 읽었으면 문자, 단어, 행의 개수를 출력한다.\n",
    "\n",
    "마지막으로 main 함수를 호출하여 프로그램을 실행한다."
   ]
  },
  {
   "cell_type": "markdown",
   "metadata": {},
   "source": [
    "## 2. 코드"
   ]
  },
  {
   "cell_type": "code",
   "execution_count": 29,
   "metadata": {},
   "outputs": [
    {
     "name": "stdout",
     "output_type": "stream",
     "text": [
      "open할 파일 이름을 입력하세요 : test_2.txt\n",
      "문자 : 275개\n",
      "단어 : 43개\n",
      "행 : 1개\n"
     ]
    }
   ],
   "source": [
    "def main():\n",
    "    while True: # 파일을 열 때 까지 반복한다.\n",
    "        try:\n",
    "            f_name = input(\"open할 파일 이름을 입력하세요 : \") # open할 파일 이름\n",
    "            f_read = open(f_name, \"r\") # 파일을 읽기 형식으로 연다.\n",
    "            break\n",
    "        except IOError:                # 파일 읽어오기 실패\n",
    "            print(\"파일\" + f_name + \"이/가 존재하지 않습니다. 다시 시도하세요\")\n",
    "    \n",
    "    c_letter, c_word, c_line = 0, 0, 1 # 문자, 단어, 행의 개수\n",
    "    \n",
    "    for line in f_read:        # 파일을 한 줄씩 읽어 나간다.\n",
    "        c_letter += len(line)  # 한 줄에 있는 모든 문자의 개수를 저장함.\n",
    "        w = line.split(\" \")    # 공백을 기준으로 나눠 리스트에 저장함\n",
    "        \n",
    "        for i in range(len(w)): # 리스트의 원소를 하나씩 검사함\n",
    "            if w[i] != '' and w[i] != '\\n': # 만약 빈 문자 또는 줄 바꿈 문자가 아니라면 \n",
    "                c_word += 1     # 단어의 개수 1증가\n",
    "            elif w[i] == '\\n':  # 만약 줄바꿈 문자라면 \n",
    "                c_letter -= 1   # 문자의 개수를 1감소하여, 줄 바꿈 문자를 제외한 문자의 개수로 맞춘다.\n",
    "                c_line += 1     # 행의 개수 1증가.\n",
    "    \n",
    "    # 문자, 단어, 행의 개수를 출력한다.\n",
    "    print(\"문자 : \" + str(c_letter) + \"개\")\n",
    "    print(\"단어 : \" + str(c_word) + \"개\")\n",
    "    print(\"행 : \" + str(c_line) + \"개\") \n",
    "    \n",
    "main() # 프로그램 실행"
   ]
  },
  {
   "cell_type": "markdown",
   "metadata": {},
   "source": [
    "# 문제 3번\n",
    "\n",
    "(문자열 대체하기) 파일에 문자열을 대체하는 프로그램을 작성하시오.\n",
    "\n",
    "프로그램은 반드시 사용자로부터 파일명, 이전 문자열과 새로운 문자열을 입력받아야 한다."
   ]
  },
  {
   "cell_type": "markdown",
   "metadata": {},
   "source": [
    "## 1.코드 설명\n",
    "\n",
    "main 함수에서 먼저 읽어올 파일 이름을 입력받고, 읽기 형식으로 여는데 한글을 읽기 위해 인코딩 형식을 utf8로 한다.\n",
    "\n",
    "만약 존재하지 않는 파일의 이름을 적으면 다시 입력받는다.\n",
    "\n",
    "다음으로 교체될 문자열과 대체할 문자열을 입력받고, 빈 리스트를 생성한다.\n",
    "\n",
    "다음으로 for문에서 파일을 한 줄씩 읽어나가는데, 교체될 문자열을 대체할 문자열로 replace한 문자열을 리스트에 저장한다.\n",
    "\n",
    "이를 파일의 끝까지 반복한다. 그리고 파일을 닫고, 같은 파일을 쓰기 형식으로 다시 연다.\n",
    "\n",
    "그리고 for문에서 리스트 끝까지 리스트에 저장된 문자열을 파일에 한 줄씩 저장한다.\n",
    "\n",
    "그리고 파일을 닫는다. 마지막으로 main함수를 호출하여 프로그램을 실행한다."
   ]
  },
  {
   "cell_type": "markdown",
   "metadata": {},
   "source": [
    "## 2. 코드"
   ]
  },
  {
   "cell_type": "code",
   "execution_count": 4,
   "metadata": {},
   "outputs": [
    {
     "name": "stdout",
     "output_type": "stream",
     "text": [
      "open할 파일 이름을 입력하세요 : test_3.txt\n",
      "교체될 이전 문자열을 입력하세요 : 다\n",
      "이전 문자열을 대체할 새로운 문자열을 입력하세요 : 욜\n",
      "완료되었습니다.\n"
     ]
    }
   ],
   "source": [
    "def main():\n",
    "    while True: # 파일을 읽을 때 까지 반복한다.\n",
    "        try:\n",
    "            f_name = input(\"open할 파일 이름을 입력하세요 : \") # 파일의 이름\n",
    "            f_read = open(f_name, \"r\", encoding=\"utf8\")        # 한글을 읽기 위해 인코딩을 utf8로 변경하고, 파일을 읽기 형식으로 open\n",
    "            break\n",
    "        except IOError: # 파일 읽어오기 오류\n",
    "            print(\"파일\" + f_name + \"이/가 존재하지 않습니다. 다시 시도하세요\")\n",
    "            \n",
    "    old_word = input(\"교체될 이전 문자열을 입력하세요 : \")     # 교체할 문자열 입력\n",
    "    new_word = input(\"이전 문자열을 대체할 새로운 문자열을 입력하세요 : \") # 대체할 문자열 입력\n",
    "    txt_list = []       # 파일에서 문자열을 읽어서 저장하기 위한 빈 리스트\n",
    "    \n",
    "    for line in f_read: # 파일을 한 줄씩 읽어 나간다.\n",
    "        txt_list.append(line.replace(old_word, new_word)) # 문자열을 대체한 문자열을 리스트에 저장한다.\n",
    "    f_read.close()      # 파일을 닫는다.\n",
    "    \n",
    "    f_write = open(f_name, \"w\", encoding=\"utf8\") # 같은 파일을 쓰기 형식으로 open하고, 인코딩을 utf8로 한다.\n",
    "    for line in txt_list:   # 리스트에 저장된 문자열을 한 줄씩 읽는다.\n",
    "        f_write.write(line) # 파일에 문자열을 쓴다.\n",
    "    f_write.close()         # 파일을 닫는다.\n",
    "    print(\"완료되었습니다.\")\n",
    "     \n",
    "main() # 프로그램 실행"
   ]
  },
  {
   "cell_type": "markdown",
   "metadata": {},
   "source": [
    "# 문제 4번\n",
    "\n",
    "사용자가 입력한 문자열에서 각 단어의 빈도수를 측정하는 프로그램을 작성하시오.\n",
    "\n",
    "입력되는 문자열의 개수는 사용자가 임의로 정할 수 있다고 볼 것. \n",
    "\n",
    "즉 문자열 1줄만 입력할 수도 있고, 2줄, 3줄을 입력할 수도 있고 그 제한이 없음."
   ]
  },
  {
   "cell_type": "markdown",
   "metadata": {},
   "source": [
    "## 1.코드 설명\n",
    "\n",
    "1) word_frequency함수는 문자열에 있는 단어의 개수를 출력한다. 함수는 문자열 strings을 인자로 받는다.\n",
    "\n",
    "그리고 받은 문자열을 공백을 기준으로 split하여 리스트 word_list에 저장한다. \n",
    "\n",
    "다음으로 각 단어의 개수를 저장할 words_count를 빈 딕셔너리로 생성한다.\n",
    "\n",
    "for문에서 word_list의 원소를 word에 저장하고 순서대로 검사한다. 만약 word가 빈 문자('')라면 다음 원소로 넘어간다.\n",
    "\n",
    "다음으로 만약 word가 words_count에서 이미 있는 key라면 words_count[word]의 value를 1증가 시킨다.\n",
    "\n",
    "없다면 key가 word인 value를 1로 저장한다.\n",
    "\n",
    "for문이 끝나면 words_count의 key와 values를 리스트 형태로 각각 따로 저장하고, \n",
    "\n",
    "이를 key : value 의 형식으로 순서대로 출력한다.\n",
    "\n",
    "<br>\n",
    "2) main함수는 먼저 사용자가 입력할 문자열의 개수를 입력받는다. 그리고 빈 문자열 strings을 생성한다.\n",
    "\n",
    "다음으로 for문에서 문자열을 입력받고, 문자열에 들어 있는 특수문자(',', '.', '!', '?')를 제거한 후,\n",
    "\n",
    "strings에 저장한다. 문자열을 구분하기 위해서 strings 끝에 공백을 추가한다.\n",
    "\n",
    "for문을 빠져나가면 word_frequency함수를 호출하여 각 단어의 빈도수를 출력한다.\n",
    "\n",
    "마지막으로 main함수를 호출하여 프로그램을 실행한다."
   ]
  },
  {
   "cell_type": "markdown",
   "metadata": {},
   "source": [
    "## 2. 코드"
   ]
  },
  {
   "cell_type": "code",
   "execution_count": 3,
   "metadata": {},
   "outputs": [
    {
     "name": "stdout",
     "output_type": "stream",
     "text": [
      "입력할 문자열의 개수를 입력하세요 : 2\n",
      "1번째 문자열을 입력하세요 : ㅁ ㅁ \n",
      "2번째 문자열을 입력하세요 : ㅠ ㅠ\n",
      "\n",
      "단어의 빈도수 출력\n",
      "ㅁ : 2\n",
      "ㅠ : 2\n",
      "완료\n"
     ]
    }
   ],
   "source": [
    "def word_frequency(strings):       # 문자열에 존재하는 단어의 빈도수를 출력하는 함수\n",
    "    word_list = strings.split(\" \") # 공백을 기준으로 리스트에 저장한다.\n",
    "    \n",
    "    words_count={}         # 딕셔너리에 단어를 키로 하여 저장\n",
    "    for word in word_list: # 리스트의 원소를 하나씩 검사한다.\n",
    "        if word == \"\":     # 만약 빈 문자면 넘어간다.\n",
    "            continue\n",
    "        if word in words_count: # 딕셔너리에 이미 있는 key라면 value를 1증가한다.\n",
    "            words_count[word] += 1\n",
    "        else:  # 딕셔너리에 없는 key라면 word가 key고 value가 1인 원소를 저장한다.\n",
    "            words_count[word] = 1\n",
    "    \n",
    "    lst = list(words_count.keys())     # 딕셔너리의 key의 리스트, 단어 리스트를 저장한다.\n",
    "    count = list(words_count.values()) # 딕셔너리의 value의 리스트, 단어의 개수 리스트를 저장한다.\n",
    "    \n",
    "    for i in range(len(lst)): # 모든 단어를 \"단어 : 단어의 개수\" 형식으로 출력한다.\n",
    "        print(lst[i], \":\", count[i])\n",
    "    \n",
    "def main():\n",
    "    n = eval(input(\"입력할 문자열의 개수를 입력하세요 : \")) # 문자열의 개수를 입력함\n",
    "    strings = \"\" # 입력받은 문자열을 이을 변수, 빈 문자열로 생성한다.\n",
    "    \n",
    "    for i in range(n):\n",
    "        w = input(str(i + 1) + \"번째 문자열을 입력하세요 : \") # 문자열을 입력 받음\n",
    "        # 특수 문자를 없앤다.\n",
    "        w = w.replace(\",\", \"\")\n",
    "        w = w.replace(\".\", \"\")\n",
    "        w = w.replace(\"?\", \"\")\n",
    "        w = w.replace(\"!\", \"\")\n",
    "        \n",
    "        strings += (w + \" \") # 문자열을 추가하고, 다음 문자열과 구분하기 위해 공백을 추기한다.\n",
    "    \n",
    "    print(\"\\n단어의 빈도수 출력\")\n",
    "    word_frequency(strings) # 함수를 호출하여 단어의 빈도수를 출력한다.\n",
    "    print(\"완료\")\n",
    "    \n",
    "main() # 프로그램 실행"
   ]
  },
  {
   "cell_type": "markdown",
   "metadata": {},
   "source": [
    "# 문제 5번\n",
    "\n",
    "숫자 n이 주어지면, n까지의 자연수로 구성될 수 있는 모든 부분 집합의 \n",
    "\n",
    "모든 원소의 합을 구하는 프로그램을 작성하시오.\n",
    "\n",
    "예를들어, n이 3이면 가능한 집합은 {{1}, {2}, {3}, {1, 2}, {1, 3}, {2, 3}, {1, 2, 3}}이고,\n",
    "\n",
    "모든 부분 집합의 원소의 합은 1 + 2 + 3 + (1 + 2) + (1 + 3) + (2 + 3) + (1 + 2 + 3) = 24이다."
   ]
  },
  {
   "cell_type": "markdown",
   "metadata": {},
   "source": [
    "## 1.코드 설명\n",
    "\n",
    "1) copy 함수는 전체 집합 리스트 src_list, 인덱스 리스트 index_list를 인자로 받는다.\n",
    "\n",
    "함수 안에서 빈 리스트 result를 생성하고, for문에서 index_list에 있는 원소(src_list를 참조할 인덱스 값)을 i에 저장한다.\n",
    "\n",
    "그리고 result에 src_list[i]를 저장한다. for문을 빠져 나가면 result를 반환한다.\n",
    "\n",
    "<br>\n",
    "2) move_index 함수는 인덱스 리스트 index_list와 전체 집합의 크기 max_length를 인자로 받는다.\n",
    "\n",
    "함수 안에서 먼저 인덱스가 변경되었는지 확인할 변수 changed를 False로 초기화한다. \n",
    "\n",
    "다음으로 index_list 크기를 index_length에 저장하고, index_list 크기 만큼 오름차순 리스트 r을 만든다. \n",
    "\n",
    "그리고 인덱스의 끝부분부터 차례대로 이동해야 하므로 r을 reverse한다.\n",
    "\n",
    "for문에서 r의 원소를 i에 저장한다. 그리고 만약 index_list[i]의 값이 (max_length - index_length + i)이라면, \n",
    "\n",
    "즉, 전체 집합의 인덱스 끝에 위치 한다면 다음 i로 넘어간다. 만약 아니라면 index_list[i]의 값을 1증가 시키고,\n",
    "\n",
    "index_list의 i번째 이후의 값을 index_list[i]로 부터 연속된 값을 가지도록 한다. \n",
    "\n",
    "그리고 index_list가 바뀌었으므로 changed를 True로 하고 break한다.\n",
    "\n",
    "for문을 빠져나가고 changed가 True라면 index_list를 반환하고, False라면 빈 리스트를 반환한다.\n",
    "\n",
    "<br>\n",
    "3) num_subset함수는 전체 집합 리스트 src_list와 부분 집합의 원소의 개수 n을 인자로 받는다.\n",
    "\n",
    "함수에서 먼저 src_list의 길이를 max_length에 저장한다. 만약 max_length가 n보다 작으면 빈 리스트를 반환하고,\n",
    "\n",
    "n과 같으면 src_list를 그대로 반환한다. 다음으로 원소의 개수가 n인 모든 부분집합을 저장할 n_subset을 먼저 빈 리스트로 생성한다.\n",
    "\n",
    "그리고 index_list에 0부터 n-1까지의 오름차순 리스트를 저장한다. \n",
    "\n",
    "while문에서 부분 집합 subset에 copy(src_list, index_list)을 저장하고, n_subset에 저장한다.\n",
    "\n",
    "그리고 index_list를 move_index(index_list, max_length)하여 인덱스를 이동 시킨다. 이를 index_list가 빈 리스트가 될 때 까지 반복한다.\n",
    "\n",
    "while문을 빠져나가면 n_subset을 반환한다.\n",
    "\n",
    "<br>\n",
    "4) all_subset 함수는 n까지의 자연수 오름차순 리스트 n_list를 인자로 받는다. \n",
    "\n",
    "함수에서 먼저 결과 리스트 result를 빈 리스트로 생성한다. 그리고 for문에서 부분집합 리스트 sub에 \n",
    "\n",
    "num_subset(n_list, i)을 호출하여 원소의 개수가 i인 모든 부분 집합을 저장한다. 그리고 result에 sub를 저장한다.\n",
    "\n",
    "이를 i가 1부터 n_list의 크기가 될 때까지 반복한다.\n",
    "\n",
    "for문을 빠져나가면 result를 반환한다.\n",
    "\n",
    "<br>\n",
    "5) sum_subset함수는 전체 부분 집합 리스트 all_subsets_list를 인자로 받는다.\n",
    "\n",
    "함수에서 먼저 리스트 원소의 합을 저장할 변수 s를 0으로 초기화한다.\n",
    "\n",
    "다음으로 이중 for문에서 all_subsets_list의 각 원소를 s에 더한다.\n",
    "\n",
    "for문을 빠져나가면 s를 반환한다.\n",
    "\n",
    "<br>\n",
    "6) main함수에서 먼저 사용자로부터 자연수 n을 입력받는다. 그리고 n까지의 오름차순 리스트를 n_list에 저장한다.\n",
    "\n",
    "그리고 리스트 subset에 all_subsets(n_list)의 값을 저장하여 n_list에 대한 전체 부분집합 리스트를 저장한다.\n",
    "\n",
    "그리고 subset을 출력하여 전체 부분집합을 출력하고, sum_subset(subset)을 호출하여 전체 부분집합의 원소의 합을 출력한다.\n",
    "\n",
    "마지막으로 main을 호출하여 프로그램을 실행한다."
   ]
  },
  {
   "cell_type": "markdown",
   "metadata": {},
   "source": [
    "## 2. 코드"
   ]
  },
  {
   "cell_type": "code",
   "execution_count": 6,
   "metadata": {},
   "outputs": [
    {
     "name": "stdout",
     "output_type": "stream",
     "text": [
      "자연수 n을 입력하세요 : 2\n",
      "모든 부분집합 :  [[1], [2], [1, 2]]\n",
      "모든 부분집합의 원소의 합 :  6\n"
     ]
    }
   ],
   "source": [
    "def copy(src_list, index_list): # 전체 집합에서 인덱스에 해당하는 원소를 리스트에 저장하는 함수\n",
    "    result = [];               # 원소를 저장할 리스트, 빈 리스트로 생성한다.\n",
    "    for i in index_list:       # i는 인덱스 리스트에 있는 값 = 인덱스\n",
    "        result.append(src_list[i]); # 리스트에 값을 저장한다.\n",
    "\n",
    "    return result; # 리스트 반환\n",
    "\n",
    "def move_index(index_list, max_length): # 인덱스 리스트의 원소를 max_length 이내에서 변경하는 함수\n",
    "    changed = False;                   # 인덱스가 변경되었는지 확인\n",
    "    index_length = len(index_list);    # 인덱스의 크기(부분집합에 들어가는 원소의 개수)\n",
    "    r = list(range(0, index_length));  # 인덱스 크기 만큼 오름차순 리스트를 만듬\n",
    "    r.reverse(); # 맨 오른쪽 인덱스 부터 이동하기 위해 순서를 바꿈\n",
    "    \n",
    "    for i in r: # i는 index_length-1 부터 0까지 내림차순으로 간다.\n",
    "        if index_list[i] == max_length - index_length + i: # 해당 인덱스가 전체 집합에서 최대한 갈 수 있는 곳이라면?\n",
    "            continue; # 다음 i로 넘어간다.\n",
    "        else:         # 만약 인덱스가 끝에 위치 한게 아니라면\n",
    "            index_list[i] = index_list[i] + 1;    # 해당 인덱스를 1증가 시킨다.\n",
    "            for j in range(i + 1, index_length): # i번째의 인덱스 이후의 인덱스를 연속된 인덱스로 옮긴다.\n",
    "                index_list[j] = index_list[j-1]+1;\n",
    "            changed = True; # 인덱스가 변경되었다.\n",
    "            break;          # 반복문 탈출\n",
    "\n",
    "    if changed == True: # 인덱스가 변경되면 변경된 인덱스 리스트 반환\n",
    "        return index_list;\n",
    "    else: # 인덱스가 변경되지 않으면 빈 리스트 반환, 즉, 모든 인덱스가 끝에 위치함을 의미\n",
    "        return []; \n",
    "\n",
    "def num_subset(src_list, n):    # src_list은 전체 집합, n는 부분집합의 원소의 개수\n",
    "    max_length = len(src_list); # 전체 집합의 길이\n",
    "    if max_length < n:          # 부분집합의 원소의 개수가 리스트 길이보다 크면 0\n",
    "        return []; \n",
    "    if max_length == n:         # 전체 집합의 길이와 n이 같다면, 전체 집합 리스트를 반환함\n",
    "        return [src_list]; \n",
    "    \n",
    "    n_subsets = []; # 원소의 개수가 n인 모든 부분집합을 넣을 리스트\n",
    "    \n",
    "    index_list = list(range(0,n)); # 0부터 n-1까지의 오름차순 인덱스 리스트\n",
    "    while index_list != []:        # 더이상 가리킬 인덱스가 없을 때 까지 반복함\n",
    "        subset = copy(src_list, index_list); # 전체 집합에서 인덱스에 해당하는 값을 subset에 저장\n",
    "        n_subsets.append(subset);  # 부분 집합에 저장\n",
    "        index_list = move_index(index_list, max_length); # 인덱스를 이동한다.\n",
    "\n",
    "    return n_subsets; # 원소의 개수가 n개인 모든 부분집합을 반환한다.\n",
    "\n",
    "def all_subsets(n_list): # 전체 집합 n_list의 모든 부분 집합을 반환하는 함수\n",
    "    result = [];         # 빈 리스트를 만든다\n",
    "    for i in range(1,len(n_list) + 1): # 원소의 개수 i는 1부터 전체집합 크기 까지 오름차순한다.\n",
    "        sub = num_subset(n_list, i);   # 원소의 개수가 i인 n_list의 부분집합을 sub에 저장\n",
    "        result.extend(sub); # 부분 집합의 원소를 저장함, 즉, 부분 집합들이 구분되어진다.\n",
    "\n",
    "    return result; # 결과를 반환함\n",
    "\n",
    "def sum_subset(all_subsets_list): # 부분집합의 원소를 모두 더하는 함수\n",
    "    s = 0                        # 더한 값을 저장할 변수를 0으로 초기화\n",
    "    for row in all_subsets_list: # 집합을 한 행씩 읽는다.\n",
    "        for col in row:          # 한 행에 존재하는 모든 원소를 하나씩 읽는다.\n",
    "            s += col             # s에 원소의 값을 저장\n",
    "    return s # 모든 원소를 더한 값을 반환한다.\n",
    "\n",
    "def main():\n",
    "    n = eval(input(\"자연수 n을 입력하세요 : \")) # 자연수를 입력받음\n",
    "    \n",
    "    n_list = list(range(1,n+1))         #  1부터 n까지의 오름차순 리스트 생성\n",
    "    \n",
    "    subset = all_subsets(n_list)       # 모든 부분집합 리스트를 저장함\n",
    "    print(\"모든 부분집합 : \", subset); # 모든 부분집합 출력\n",
    "    print(\"모든 부분집합의 원소의 합 : \", sum_subset(subset)) # 모든 부분집합의 원소를 더한 값 출력\n",
    "\n",
    "main(); # 프로그램 실행"
   ]
  }
 ],
 "metadata": {
  "kernelspec": {
   "display_name": "Python 3",
   "language": "python",
   "name": "python3"
  },
  "language_info": {
   "codemirror_mode": {
    "name": "ipython",
    "version": 3
   },
   "file_extension": ".py",
   "mimetype": "text/x-python",
   "name": "python",
   "nbconvert_exporter": "python",
   "pygments_lexer": "ipython3",
   "version": "3.6.3"
  }
 },
 "nbformat": 4,
 "nbformat_minor": 2
}
